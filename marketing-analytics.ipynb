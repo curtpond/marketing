{
 "cells": [
  {
   "cell_type": "markdown",
   "metadata": {},
   "source": [
    "### Marketing Campaign: Boost the profit of a marketing campaign"
   ]
  },
  {
   "cell_type": "markdown",
   "metadata": {},
   "source": [
    "Here is an overview of the marketing features we will use to predict the Response Target. \n",
    "\n",
    "Data was downloaded from Kaggle: https://www.kaggle.com/datasets/rodsaldanha/arketing-campaign "
   ]
  },
  {
   "cell_type": "markdown",
   "metadata": {},
   "source": [
    "| Field                 | Description                                                   |\n",
    "|-----------------------|---------------------------------------------------------------|\n",
    "| AcceptedCmp1          | 1 if customer accepted the offer in the 1st campaign, 0 otherwise |\n",
    "| AcceptedCmp2          | 1 if customer accepted the offer in the 2nd campaign, 0 otherwise |\n",
    "| AcceptedCmp3          | 1 if customer accepted the offer in the 3rd campaign, 0 otherwise |\n",
    "| AcceptedCmp4          | 1 if customer accepted the offer in the 4th campaign, 0 otherwise |\n",
    "| AcceptedCmp5          | 1 if customer accepted the offer in the 5th campaign, 0 otherwise |\n",
    "| Response (target)     | 1 if customer accepted the offer in the last campaign, 0 otherwise |\n",
    "| Complain              | 1 if customer complained in the last 2 years                     |\n",
    "| DtCustomer            | Date of customer’s enrollment with the company                   |\n",
    "| Education             | Customer’s level of education                                   |\n",
    "| Marital               | Customer’s marital status                                       |\n",
    "| Kidhome               | Number of small children in customer’s household                |\n",
    "| Teenhome              | Number of teenagers in customer’s household                     |\n",
    "| Income                | Customer’s yearly household income                              |\n",
    "| MntFishProducts       | Amount spent on fish products in the last 2 years               |\n",
    "| MntMeatProducts       | Amount spent on meat products in the last 2 years               |\n",
    "| MntFruits             | Amount spent on fruits products in the last 2 years             |\n",
    "| MntSweetProducts      | Amount spent on sweet products in the last 2 years              |\n",
    "| MntWines              | Amount spent on wine products in the last 2 years               |\n",
    "| MntGoldProds          | Amount spent on gold products in the last 2 years               |\n",
    "| NumDealsPurchases     | Number of purchases made with a discount                        |\n",
    "| NumCatalogPurchases   | Number of purchases made using a catalogue                      |\n",
    "| NumStorePurchases     | Number of purchases made directly in stores                     |\n",
    "| NumWebPurchases       | Number of purchases made through the company’s website          |\n",
    "| NumWebVisitsMonth     | Number of visits to the company’s website in the last month     |\n",
    "| Recency               | Number of days since the last purchase                          |\n"
   ]
  },
  {
   "cell_type": "markdown",
   "metadata": {},
   "source": [
    "Throughout this notebook, we'll also save data artifacts and log model configurations to Weights & Biases."
   ]
  },
  {
   "cell_type": "markdown",
   "metadata": {},
   "source": [
    "### Install libraries"
   ]
  },
  {
   "cell_type": "code",
   "execution_count": 1,
   "metadata": {},
   "outputs": [],
   "source": [
    "# core libraries\n",
    "import pandas as pd\n",
    "import numpy as np\n",
    "import matplotlib.pyplot as plt\n",
    "import seaborn as sns\n",
    "from tqdm import tqdm\n",
    "import warnings\n",
    "import os\n",
    "\n",
    "# notebook settings\n",
    "sns.set_style(\"whitegrid\")\n",
    "sns.set_palette(\"bright\")\n",
    "pd.set_option('display.max_columns', 500)\n",
    "pd.set_option('display.max_rows', 500)\n",
    "\n",
    "\n",
    "# sklearn for preprocessing and machine learning\n",
    "from sklearn.preprocessing import LabelEncoder\n",
    "from sklearn.model_selection import train_test_split\n",
    "from sklearn.metrics import accuracy_score, confusion_matrix, classification_report, roc_auc_score\n",
    "from sklearn.preprocessing import StandardScaler\n",
    "from sklearn import metrics\n",
    "\n",
    "# models\n",
    "import xgboost as xgb\n",
    "\n",
    "# for saving the model\n",
    "import pickle\n",
    "\n",
    "# for weights and biases\n",
    "import wandb\n",
    "from wandb.xgboost import wandb_callback\n",
    "\n",
    "# Environment check\n",
    "warnings.filterwarnings(\"ignore\")\n",
    "os.environ[\"WANDB_SILENT\"] = \"true\"\n",
    "CONFIG = {'learning': 'marketing-analytics', \n",
    "          'task': 'classification', \n",
    "          'env': 'local', \n",
    "          'datasource': 'kaggle', \n",
    "          'model':'xgboost'}"
   ]
  },
  {
   "cell_type": "code",
   "execution_count": 2,
   "metadata": {},
   "outputs": [],
   "source": [
    "# For updating plots\n",
    "\n",
    "my_colors = [\"#EE4901\", \"#E77522\", \"#EFC459\", \"#C8E66E\", \"#8CC79C\", \"#4468B3\", \"#012599\", \"#3C2C66\"]"
   ]
  },
  {
   "cell_type": "markdown",
   "metadata": {},
   "source": [
    "### Load the data"
   ]
  },
  {
   "cell_type": "code",
   "execution_count": 3,
   "metadata": {},
   "outputs": [
    {
     "data": {
      "text/html": [
       "<div>\n",
       "<style scoped>\n",
       "    .dataframe tbody tr th:only-of-type {\n",
       "        vertical-align: middle;\n",
       "    }\n",
       "\n",
       "    .dataframe tbody tr th {\n",
       "        vertical-align: top;\n",
       "    }\n",
       "\n",
       "    .dataframe thead th {\n",
       "        text-align: right;\n",
       "    }\n",
       "</style>\n",
       "<table border=\"1\" class=\"dataframe\">\n",
       "  <thead>\n",
       "    <tr style=\"text-align: right;\">\n",
       "      <th></th>\n",
       "      <th>ID</th>\n",
       "      <th>Year_Birth</th>\n",
       "      <th>Education</th>\n",
       "      <th>Marital_Status</th>\n",
       "      <th>Income</th>\n",
       "      <th>Kidhome</th>\n",
       "      <th>Teenhome</th>\n",
       "      <th>Dt_Customer</th>\n",
       "      <th>Recency</th>\n",
       "      <th>MntWines</th>\n",
       "      <th>MntFruits</th>\n",
       "      <th>MntMeatProducts</th>\n",
       "      <th>MntFishProducts</th>\n",
       "      <th>MntSweetProducts</th>\n",
       "      <th>MntGoldProds</th>\n",
       "      <th>NumDealsPurchases</th>\n",
       "      <th>NumWebPurchases</th>\n",
       "      <th>NumCatalogPurchases</th>\n",
       "      <th>NumStorePurchases</th>\n",
       "      <th>NumWebVisitsMonth</th>\n",
       "      <th>AcceptedCmp3</th>\n",
       "      <th>AcceptedCmp4</th>\n",
       "      <th>AcceptedCmp5</th>\n",
       "      <th>AcceptedCmp1</th>\n",
       "      <th>AcceptedCmp2</th>\n",
       "      <th>Complain</th>\n",
       "      <th>Z_CostContact</th>\n",
       "      <th>Z_Revenue</th>\n",
       "      <th>Response</th>\n",
       "    </tr>\n",
       "  </thead>\n",
       "  <tbody>\n",
       "    <tr>\n",
       "      <th>0</th>\n",
       "      <td>5524</td>\n",
       "      <td>1957</td>\n",
       "      <td>Graduation</td>\n",
       "      <td>Single</td>\n",
       "      <td>58138.0</td>\n",
       "      <td>0</td>\n",
       "      <td>0</td>\n",
       "      <td>2012-09-04</td>\n",
       "      <td>58</td>\n",
       "      <td>635</td>\n",
       "      <td>88</td>\n",
       "      <td>546</td>\n",
       "      <td>172</td>\n",
       "      <td>88</td>\n",
       "      <td>88</td>\n",
       "      <td>3</td>\n",
       "      <td>8</td>\n",
       "      <td>10</td>\n",
       "      <td>4</td>\n",
       "      <td>7</td>\n",
       "      <td>0</td>\n",
       "      <td>0</td>\n",
       "      <td>0</td>\n",
       "      <td>0</td>\n",
       "      <td>0</td>\n",
       "      <td>0</td>\n",
       "      <td>3</td>\n",
       "      <td>11</td>\n",
       "      <td>1</td>\n",
       "    </tr>\n",
       "    <tr>\n",
       "      <th>1</th>\n",
       "      <td>2174</td>\n",
       "      <td>1954</td>\n",
       "      <td>Graduation</td>\n",
       "      <td>Single</td>\n",
       "      <td>46344.0</td>\n",
       "      <td>1</td>\n",
       "      <td>1</td>\n",
       "      <td>2014-03-08</td>\n",
       "      <td>38</td>\n",
       "      <td>11</td>\n",
       "      <td>1</td>\n",
       "      <td>6</td>\n",
       "      <td>2</td>\n",
       "      <td>1</td>\n",
       "      <td>6</td>\n",
       "      <td>2</td>\n",
       "      <td>1</td>\n",
       "      <td>1</td>\n",
       "      <td>2</td>\n",
       "      <td>5</td>\n",
       "      <td>0</td>\n",
       "      <td>0</td>\n",
       "      <td>0</td>\n",
       "      <td>0</td>\n",
       "      <td>0</td>\n",
       "      <td>0</td>\n",
       "      <td>3</td>\n",
       "      <td>11</td>\n",
       "      <td>0</td>\n",
       "    </tr>\n",
       "    <tr>\n",
       "      <th>2</th>\n",
       "      <td>4141</td>\n",
       "      <td>1965</td>\n",
       "      <td>Graduation</td>\n",
       "      <td>Together</td>\n",
       "      <td>71613.0</td>\n",
       "      <td>0</td>\n",
       "      <td>0</td>\n",
       "      <td>2013-08-21</td>\n",
       "      <td>26</td>\n",
       "      <td>426</td>\n",
       "      <td>49</td>\n",
       "      <td>127</td>\n",
       "      <td>111</td>\n",
       "      <td>21</td>\n",
       "      <td>42</td>\n",
       "      <td>1</td>\n",
       "      <td>8</td>\n",
       "      <td>2</td>\n",
       "      <td>10</td>\n",
       "      <td>4</td>\n",
       "      <td>0</td>\n",
       "      <td>0</td>\n",
       "      <td>0</td>\n",
       "      <td>0</td>\n",
       "      <td>0</td>\n",
       "      <td>0</td>\n",
       "      <td>3</td>\n",
       "      <td>11</td>\n",
       "      <td>0</td>\n",
       "    </tr>\n",
       "    <tr>\n",
       "      <th>3</th>\n",
       "      <td>6182</td>\n",
       "      <td>1984</td>\n",
       "      <td>Graduation</td>\n",
       "      <td>Together</td>\n",
       "      <td>26646.0</td>\n",
       "      <td>1</td>\n",
       "      <td>0</td>\n",
       "      <td>2014-02-10</td>\n",
       "      <td>26</td>\n",
       "      <td>11</td>\n",
       "      <td>4</td>\n",
       "      <td>20</td>\n",
       "      <td>10</td>\n",
       "      <td>3</td>\n",
       "      <td>5</td>\n",
       "      <td>2</td>\n",
       "      <td>2</td>\n",
       "      <td>0</td>\n",
       "      <td>4</td>\n",
       "      <td>6</td>\n",
       "      <td>0</td>\n",
       "      <td>0</td>\n",
       "      <td>0</td>\n",
       "      <td>0</td>\n",
       "      <td>0</td>\n",
       "      <td>0</td>\n",
       "      <td>3</td>\n",
       "      <td>11</td>\n",
       "      <td>0</td>\n",
       "    </tr>\n",
       "    <tr>\n",
       "      <th>4</th>\n",
       "      <td>5324</td>\n",
       "      <td>1981</td>\n",
       "      <td>PhD</td>\n",
       "      <td>Married</td>\n",
       "      <td>58293.0</td>\n",
       "      <td>1</td>\n",
       "      <td>0</td>\n",
       "      <td>2014-01-19</td>\n",
       "      <td>94</td>\n",
       "      <td>173</td>\n",
       "      <td>43</td>\n",
       "      <td>118</td>\n",
       "      <td>46</td>\n",
       "      <td>27</td>\n",
       "      <td>15</td>\n",
       "      <td>5</td>\n",
       "      <td>5</td>\n",
       "      <td>3</td>\n",
       "      <td>6</td>\n",
       "      <td>5</td>\n",
       "      <td>0</td>\n",
       "      <td>0</td>\n",
       "      <td>0</td>\n",
       "      <td>0</td>\n",
       "      <td>0</td>\n",
       "      <td>0</td>\n",
       "      <td>3</td>\n",
       "      <td>11</td>\n",
       "      <td>0</td>\n",
       "    </tr>\n",
       "  </tbody>\n",
       "</table>\n",
       "</div>"
      ],
      "text/plain": [
       "     ID  Year_Birth   Education Marital_Status   Income  Kidhome  Teenhome   \n",
       "0  5524        1957  Graduation         Single  58138.0        0         0  \\\n",
       "1  2174        1954  Graduation         Single  46344.0        1         1   \n",
       "2  4141        1965  Graduation       Together  71613.0        0         0   \n",
       "3  6182        1984  Graduation       Together  26646.0        1         0   \n",
       "4  5324        1981         PhD        Married  58293.0        1         0   \n",
       "\n",
       "  Dt_Customer  Recency  MntWines  MntFruits  MntMeatProducts  MntFishProducts   \n",
       "0  2012-09-04       58       635         88              546              172  \\\n",
       "1  2014-03-08       38        11          1                6                2   \n",
       "2  2013-08-21       26       426         49              127              111   \n",
       "3  2014-02-10       26        11          4               20               10   \n",
       "4  2014-01-19       94       173         43              118               46   \n",
       "\n",
       "   MntSweetProducts  MntGoldProds  NumDealsPurchases  NumWebPurchases   \n",
       "0                88            88                  3                8  \\\n",
       "1                 1             6                  2                1   \n",
       "2                21            42                  1                8   \n",
       "3                 3             5                  2                2   \n",
       "4                27            15                  5                5   \n",
       "\n",
       "   NumCatalogPurchases  NumStorePurchases  NumWebVisitsMonth  AcceptedCmp3   \n",
       "0                   10                  4                  7             0  \\\n",
       "1                    1                  2                  5             0   \n",
       "2                    2                 10                  4             0   \n",
       "3                    0                  4                  6             0   \n",
       "4                    3                  6                  5             0   \n",
       "\n",
       "   AcceptedCmp4  AcceptedCmp5  AcceptedCmp1  AcceptedCmp2  Complain   \n",
       "0             0             0             0             0         0  \\\n",
       "1             0             0             0             0         0   \n",
       "2             0             0             0             0         0   \n",
       "3             0             0             0             0         0   \n",
       "4             0             0             0             0         0   \n",
       "\n",
       "   Z_CostContact  Z_Revenue  Response  \n",
       "0              3         11         1  \n",
       "1              3         11         0  \n",
       "2              3         11         0  \n",
       "3              3         11         0  \n",
       "4              3         11         0  "
      ]
     },
     "execution_count": 3,
     "metadata": {},
     "output_type": "execute_result"
    }
   ],
   "source": [
    "PATH = 'data/marketing_campaign.csv'\n",
    "\n",
    "df = pd.read_csv(PATH, sep=';')\n",
    "df.head()"
   ]
  },
  {
   "cell_type": "markdown",
   "metadata": {},
   "source": [
    "#### Configure W&B and start a run to save the raw dataset"
   ]
  },
  {
   "cell_type": "code",
   "execution_count": 4,
   "metadata": {},
   "outputs": [],
   "source": [
    "def save_dataset_artifact(run_name, artifact_name, path):\n",
    "    '''Saves dataset to W&B Artifactory.\n",
    "    run_name: name of the experiment\n",
    "    artifact_name: under what name should the dataset be stored\n",
    "    path: path to the dataset'''\n",
    "    \n",
    "    run = wandb.init(project='marketing-analytics', \n",
    "                     name=run_name,\n",
    "                     config=CONFIG)\n",
    "    artifact = wandb.Artifact(name=artifact_name, \n",
    "                              type='dataset')\n",
    "    artifact.add_file(path)\n",
    "\n",
    "    wandb.log_artifact(artifact)\n",
    "    wandb.finish()\n",
    "    print(\"Artifact has been saved successfully.\")"
   ]
  },
  {
   "cell_type": "code",
   "execution_count": 5,
   "metadata": {},
   "outputs": [
    {
     "name": "stderr",
     "output_type": "stream",
     "text": [
      "wandb: WARNING Source type is set to 'repo' but some required information is missing from the environment. A job will not be created from this run. See https://docs.wandb.ai/guides/launch/create-job\n"
     ]
    },
    {
     "name": "stdout",
     "output_type": "stream",
     "text": [
      "Artifact has been saved successfully.\n"
     ]
    }
   ],
   "source": [
    "# Log the dataset into W&B Artifactory\n",
    "save_dataset_artifact(run_name='dataset_artifact', \n",
    "                      artifact_name='raw_dataset_marketing_campaign', \n",
    "                      path=PATH)"
   ]
  },
  {
   "cell_type": "code",
   "execution_count": 6,
   "metadata": {},
   "outputs": [
    {
     "name": "stdout",
     "output_type": "stream",
     "text": [
      "There are 2240 rows and 29 columns in the data/marketing_campaign.csv dataset\n"
     ]
    }
   ],
   "source": [
    "print(f'There are {df.shape[0]} rows and {df.shape[1]} columns in the {PATH} dataset')"
   ]
  },
  {
   "cell_type": "markdown",
   "metadata": {},
   "source": [
    "So far I've provided definitions for each of the features, along with downloading and loading the full marketing campaign dataset. I've also explored Weights & Biases (W&B), a powerful platform for running and monitoring different types of ML experiments. To start, I created my first run and stored the raw dataset an W&B artificat."
   ]
  },
  {
   "cell_type": "code",
   "execution_count": 7,
   "metadata": {},
   "outputs": [
    {
     "name": "stdout",
     "output_type": "stream",
     "text": [
      "<class 'pandas.core.frame.DataFrame'>\n",
      "RangeIndex: 2240 entries, 0 to 2239\n",
      "Data columns (total 29 columns):\n",
      " #   Column               Non-Null Count  Dtype  \n",
      "---  ------               --------------  -----  \n",
      " 0   ID                   2240 non-null   int64  \n",
      " 1   Year_Birth           2240 non-null   int64  \n",
      " 2   Education            2240 non-null   object \n",
      " 3   Marital_Status       2240 non-null   object \n",
      " 4   Income               2216 non-null   float64\n",
      " 5   Kidhome              2240 non-null   int64  \n",
      " 6   Teenhome             2240 non-null   int64  \n",
      " 7   Dt_Customer          2240 non-null   object \n",
      " 8   Recency              2240 non-null   int64  \n",
      " 9   MntWines             2240 non-null   int64  \n",
      " 10  MntFruits            2240 non-null   int64  \n",
      " 11  MntMeatProducts      2240 non-null   int64  \n",
      " 12  MntFishProducts      2240 non-null   int64  \n",
      " 13  MntSweetProducts     2240 non-null   int64  \n",
      " 14  MntGoldProds         2240 non-null   int64  \n",
      " 15  NumDealsPurchases    2240 non-null   int64  \n",
      " 16  NumWebPurchases      2240 non-null   int64  \n",
      " 17  NumCatalogPurchases  2240 non-null   int64  \n",
      " 18  NumStorePurchases    2240 non-null   int64  \n",
      " 19  NumWebVisitsMonth    2240 non-null   int64  \n",
      " 20  AcceptedCmp3         2240 non-null   int64  \n",
      " 21  AcceptedCmp4         2240 non-null   int64  \n",
      " 22  AcceptedCmp5         2240 non-null   int64  \n",
      " 23  AcceptedCmp1         2240 non-null   int64  \n",
      " 24  AcceptedCmp2         2240 non-null   int64  \n",
      " 25  Complain             2240 non-null   int64  \n",
      " 26  Z_CostContact        2240 non-null   int64  \n",
      " 27  Z_Revenue            2240 non-null   int64  \n",
      " 28  Response             2240 non-null   int64  \n",
      "dtypes: float64(1), int64(25), object(3)\n",
      "memory usage: 507.6+ KB\n"
     ]
    }
   ],
   "source": [
    "df.info()"
   ]
  },
  {
   "cell_type": "markdown",
   "metadata": {},
   "source": [
    "Looks like we're missing some data in the Income column. Most of the data types look OK. I will need to update the customer create column, as well as convert objects to strings. "
   ]
  },
  {
   "cell_type": "markdown",
   "metadata": {},
   "source": [
    "### Clean data"
   ]
  },
  {
   "cell_type": "markdown",
   "metadata": {},
   "source": [
    "#### Rename columns"
   ]
  },
  {
   "cell_type": "code",
   "execution_count": 8,
   "metadata": {},
   "outputs": [],
   "source": [
    "new_column_names = {'ID': 'id',\n",
    "                    'Year_Birth': 'birth_year',\n",
    "                    'Education': 'education',\n",
    "                    'Marital_Status': 'marital_status',\n",
    "                    'Income': 'income',\n",
    "                    'Kidhome': 'kids_at_home',\n",
    "                    'Teenhome': 'teens_at_home',\n",
    "                    'Dt_Customer': 'date_customer',\n",
    "                    'Recency': 'days_last_purchase',\n",
    "                     'MntWines': 'wines',\n",
    "                     'MntFruits': 'fruits',\n",
    "                     'MntMeatProducts': 'meat',\n",
    "                     'MntFishProducts': 'fish',\n",
    "                     'MntSweetProducts': 'sweets',\n",
    "                     'MntGoldProds': 'gold',\n",
    "                     'NumDealsPurchases': 'discount_purchases',\n",
    "                     'NumWebPurchases': 'web_purchases',\n",
    "                     'NumCatalogPurchases': 'catalog_purchases',\n",
    "                     'NumStorePurchases': 'store_purchases',\n",
    "                     'NumWebVisitsMonth': 'web_visits',\n",
    "                     'AcceptedCmp3': 'accepted_campaign_3',\n",
    "                     'AcceptedCmp4': 'accepted_campaign_4',\n",
    "                     'AcceptedCmp5': 'accepted_campaign_5',\n",
    "                     'AcceptedCmp1': 'accepted_campaign_1',\n",
    "                     'AcceptedCmp2': 'accepted_campaign_2',\n",
    "                     'Complain': 'complaint',\n",
    "                     'Response': 'response',\n",
    "                     'Z_CostContact': 'cost_contact',\n",
    "                     'Z_Revenue': 'revenue'}"
   ]
  },
  {
   "cell_type": "markdown",
   "metadata": {},
   "source": [
    "#### Create an Assign chain to manage data updates throughout preprocessing"
   ]
  },
  {
   "cell_type": "code",
   "execution_count": 9,
   "metadata": {},
   "outputs": [],
   "source": [
    "df = (\n",
    "    df.rename(columns=new_column_names)\n",
    ")"
   ]
  },
  {
   "cell_type": "markdown",
   "metadata": {},
   "source": [
    "#### Explore missing values"
   ]
  },
  {
   "cell_type": "code",
   "execution_count": 10,
   "metadata": {},
   "outputs": [
    {
     "data": {
      "text/plain": [
       "id                      0\n",
       "birth_year              0\n",
       "education               0\n",
       "marital_status          0\n",
       "income                 24\n",
       "kids_at_home            0\n",
       "teens_at_home           0\n",
       "date_customer           0\n",
       "days_last_purchase      0\n",
       "wines                   0\n",
       "fruits                  0\n",
       "meat                    0\n",
       "fish                    0\n",
       "sweets                  0\n",
       "gold                    0\n",
       "discount_purchases      0\n",
       "web_purchases           0\n",
       "catalog_purchases       0\n",
       "store_purchases         0\n",
       "web_visits              0\n",
       "accepted_campaign_3     0\n",
       "accepted_campaign_4     0\n",
       "accepted_campaign_5     0\n",
       "accepted_campaign_1     0\n",
       "accepted_campaign_2     0\n",
       "complaint               0\n",
       "cost_contact            0\n",
       "revenue                 0\n",
       "response                0\n",
       "dtype: int64"
      ]
     },
     "execution_count": 10,
     "metadata": {},
     "output_type": "execute_result"
    }
   ],
   "source": [
    "df.isna().sum()"
   ]
  },
  {
   "cell_type": "code",
   "execution_count": 11,
   "metadata": {},
   "outputs": [
    {
     "data": {
      "text/html": [
       "<div>\n",
       "<style scoped>\n",
       "    .dataframe tbody tr th:only-of-type {\n",
       "        vertical-align: middle;\n",
       "    }\n",
       "\n",
       "    .dataframe tbody tr th {\n",
       "        vertical-align: top;\n",
       "    }\n",
       "\n",
       "    .dataframe thead th {\n",
       "        text-align: right;\n",
       "    }\n",
       "</style>\n",
       "<table border=\"1\" class=\"dataframe\">\n",
       "  <thead>\n",
       "    <tr style=\"text-align: right;\">\n",
       "      <th></th>\n",
       "      <th>id</th>\n",
       "      <th>birth_year</th>\n",
       "      <th>education</th>\n",
       "      <th>marital_status</th>\n",
       "      <th>income</th>\n",
       "      <th>kids_at_home</th>\n",
       "      <th>teens_at_home</th>\n",
       "      <th>date_customer</th>\n",
       "      <th>days_last_purchase</th>\n",
       "      <th>wines</th>\n",
       "      <th>fruits</th>\n",
       "      <th>meat</th>\n",
       "      <th>fish</th>\n",
       "      <th>sweets</th>\n",
       "      <th>gold</th>\n",
       "      <th>discount_purchases</th>\n",
       "      <th>web_purchases</th>\n",
       "      <th>catalog_purchases</th>\n",
       "      <th>store_purchases</th>\n",
       "      <th>web_visits</th>\n",
       "      <th>accepted_campaign_3</th>\n",
       "      <th>accepted_campaign_4</th>\n",
       "      <th>accepted_campaign_5</th>\n",
       "      <th>accepted_campaign_1</th>\n",
       "      <th>accepted_campaign_2</th>\n",
       "      <th>complaint</th>\n",
       "      <th>cost_contact</th>\n",
       "      <th>revenue</th>\n",
       "      <th>response</th>\n",
       "    </tr>\n",
       "  </thead>\n",
       "  <tbody>\n",
       "    <tr>\n",
       "      <th>10</th>\n",
       "      <td>1994</td>\n",
       "      <td>1983</td>\n",
       "      <td>Graduation</td>\n",
       "      <td>Married</td>\n",
       "      <td>NaN</td>\n",
       "      <td>1</td>\n",
       "      <td>0</td>\n",
       "      <td>2013-11-15</td>\n",
       "      <td>11</td>\n",
       "      <td>5</td>\n",
       "      <td>5</td>\n",
       "      <td>6</td>\n",
       "      <td>0</td>\n",
       "      <td>2</td>\n",
       "      <td>1</td>\n",
       "      <td>1</td>\n",
       "      <td>1</td>\n",
       "      <td>0</td>\n",
       "      <td>2</td>\n",
       "      <td>7</td>\n",
       "      <td>0</td>\n",
       "      <td>0</td>\n",
       "      <td>0</td>\n",
       "      <td>0</td>\n",
       "      <td>0</td>\n",
       "      <td>0</td>\n",
       "      <td>3</td>\n",
       "      <td>11</td>\n",
       "      <td>0</td>\n",
       "    </tr>\n",
       "    <tr>\n",
       "      <th>27</th>\n",
       "      <td>5255</td>\n",
       "      <td>1986</td>\n",
       "      <td>Graduation</td>\n",
       "      <td>Single</td>\n",
       "      <td>NaN</td>\n",
       "      <td>1</td>\n",
       "      <td>0</td>\n",
       "      <td>2013-02-20</td>\n",
       "      <td>19</td>\n",
       "      <td>5</td>\n",
       "      <td>1</td>\n",
       "      <td>3</td>\n",
       "      <td>3</td>\n",
       "      <td>263</td>\n",
       "      <td>362</td>\n",
       "      <td>0</td>\n",
       "      <td>27</td>\n",
       "      <td>0</td>\n",
       "      <td>0</td>\n",
       "      <td>1</td>\n",
       "      <td>0</td>\n",
       "      <td>0</td>\n",
       "      <td>0</td>\n",
       "      <td>0</td>\n",
       "      <td>0</td>\n",
       "      <td>0</td>\n",
       "      <td>3</td>\n",
       "      <td>11</td>\n",
       "      <td>0</td>\n",
       "    </tr>\n",
       "    <tr>\n",
       "      <th>43</th>\n",
       "      <td>7281</td>\n",
       "      <td>1959</td>\n",
       "      <td>PhD</td>\n",
       "      <td>Single</td>\n",
       "      <td>NaN</td>\n",
       "      <td>0</td>\n",
       "      <td>0</td>\n",
       "      <td>2013-11-05</td>\n",
       "      <td>80</td>\n",
       "      <td>81</td>\n",
       "      <td>11</td>\n",
       "      <td>50</td>\n",
       "      <td>3</td>\n",
       "      <td>2</td>\n",
       "      <td>39</td>\n",
       "      <td>1</td>\n",
       "      <td>1</td>\n",
       "      <td>3</td>\n",
       "      <td>4</td>\n",
       "      <td>2</td>\n",
       "      <td>0</td>\n",
       "      <td>0</td>\n",
       "      <td>0</td>\n",
       "      <td>0</td>\n",
       "      <td>0</td>\n",
       "      <td>0</td>\n",
       "      <td>3</td>\n",
       "      <td>11</td>\n",
       "      <td>0</td>\n",
       "    </tr>\n",
       "    <tr>\n",
       "      <th>48</th>\n",
       "      <td>7244</td>\n",
       "      <td>1951</td>\n",
       "      <td>Graduation</td>\n",
       "      <td>Single</td>\n",
       "      <td>NaN</td>\n",
       "      <td>2</td>\n",
       "      <td>1</td>\n",
       "      <td>2014-01-01</td>\n",
       "      <td>96</td>\n",
       "      <td>48</td>\n",
       "      <td>5</td>\n",
       "      <td>48</td>\n",
       "      <td>6</td>\n",
       "      <td>10</td>\n",
       "      <td>7</td>\n",
       "      <td>3</td>\n",
       "      <td>2</td>\n",
       "      <td>1</td>\n",
       "      <td>4</td>\n",
       "      <td>6</td>\n",
       "      <td>0</td>\n",
       "      <td>0</td>\n",
       "      <td>0</td>\n",
       "      <td>0</td>\n",
       "      <td>0</td>\n",
       "      <td>0</td>\n",
       "      <td>3</td>\n",
       "      <td>11</td>\n",
       "      <td>0</td>\n",
       "    </tr>\n",
       "    <tr>\n",
       "      <th>58</th>\n",
       "      <td>8557</td>\n",
       "      <td>1982</td>\n",
       "      <td>Graduation</td>\n",
       "      <td>Single</td>\n",
       "      <td>NaN</td>\n",
       "      <td>1</td>\n",
       "      <td>0</td>\n",
       "      <td>2013-06-17</td>\n",
       "      <td>57</td>\n",
       "      <td>11</td>\n",
       "      <td>3</td>\n",
       "      <td>22</td>\n",
       "      <td>2</td>\n",
       "      <td>2</td>\n",
       "      <td>6</td>\n",
       "      <td>2</td>\n",
       "      <td>2</td>\n",
       "      <td>0</td>\n",
       "      <td>3</td>\n",
       "      <td>6</td>\n",
       "      <td>0</td>\n",
       "      <td>0</td>\n",
       "      <td>0</td>\n",
       "      <td>0</td>\n",
       "      <td>0</td>\n",
       "      <td>0</td>\n",
       "      <td>3</td>\n",
       "      <td>11</td>\n",
       "      <td>0</td>\n",
       "    </tr>\n",
       "    <tr>\n",
       "      <th>71</th>\n",
       "      <td>10629</td>\n",
       "      <td>1973</td>\n",
       "      <td>2n Cycle</td>\n",
       "      <td>Married</td>\n",
       "      <td>NaN</td>\n",
       "      <td>1</td>\n",
       "      <td>0</td>\n",
       "      <td>2012-09-14</td>\n",
       "      <td>25</td>\n",
       "      <td>25</td>\n",
       "      <td>3</td>\n",
       "      <td>43</td>\n",
       "      <td>17</td>\n",
       "      <td>4</td>\n",
       "      <td>17</td>\n",
       "      <td>3</td>\n",
       "      <td>3</td>\n",
       "      <td>0</td>\n",
       "      <td>3</td>\n",
       "      <td>8</td>\n",
       "      <td>0</td>\n",
       "      <td>0</td>\n",
       "      <td>0</td>\n",
       "      <td>0</td>\n",
       "      <td>0</td>\n",
       "      <td>0</td>\n",
       "      <td>3</td>\n",
       "      <td>11</td>\n",
       "      <td>0</td>\n",
       "    </tr>\n",
       "    <tr>\n",
       "      <th>90</th>\n",
       "      <td>8996</td>\n",
       "      <td>1957</td>\n",
       "      <td>PhD</td>\n",
       "      <td>Married</td>\n",
       "      <td>NaN</td>\n",
       "      <td>2</td>\n",
       "      <td>1</td>\n",
       "      <td>2012-11-19</td>\n",
       "      <td>4</td>\n",
       "      <td>230</td>\n",
       "      <td>42</td>\n",
       "      <td>192</td>\n",
       "      <td>49</td>\n",
       "      <td>37</td>\n",
       "      <td>53</td>\n",
       "      <td>12</td>\n",
       "      <td>7</td>\n",
       "      <td>2</td>\n",
       "      <td>8</td>\n",
       "      <td>9</td>\n",
       "      <td>0</td>\n",
       "      <td>0</td>\n",
       "      <td>0</td>\n",
       "      <td>0</td>\n",
       "      <td>0</td>\n",
       "      <td>0</td>\n",
       "      <td>3</td>\n",
       "      <td>11</td>\n",
       "      <td>0</td>\n",
       "    </tr>\n",
       "    <tr>\n",
       "      <th>91</th>\n",
       "      <td>9235</td>\n",
       "      <td>1957</td>\n",
       "      <td>Graduation</td>\n",
       "      <td>Single</td>\n",
       "      <td>NaN</td>\n",
       "      <td>1</td>\n",
       "      <td>1</td>\n",
       "      <td>2014-05-27</td>\n",
       "      <td>45</td>\n",
       "      <td>7</td>\n",
       "      <td>0</td>\n",
       "      <td>8</td>\n",
       "      <td>2</td>\n",
       "      <td>0</td>\n",
       "      <td>1</td>\n",
       "      <td>1</td>\n",
       "      <td>1</td>\n",
       "      <td>0</td>\n",
       "      <td>2</td>\n",
       "      <td>7</td>\n",
       "      <td>0</td>\n",
       "      <td>0</td>\n",
       "      <td>0</td>\n",
       "      <td>0</td>\n",
       "      <td>0</td>\n",
       "      <td>0</td>\n",
       "      <td>3</td>\n",
       "      <td>11</td>\n",
       "      <td>0</td>\n",
       "    </tr>\n",
       "    <tr>\n",
       "      <th>92</th>\n",
       "      <td>5798</td>\n",
       "      <td>1973</td>\n",
       "      <td>Master</td>\n",
       "      <td>Together</td>\n",
       "      <td>NaN</td>\n",
       "      <td>0</td>\n",
       "      <td>0</td>\n",
       "      <td>2013-11-23</td>\n",
       "      <td>87</td>\n",
       "      <td>445</td>\n",
       "      <td>37</td>\n",
       "      <td>359</td>\n",
       "      <td>98</td>\n",
       "      <td>28</td>\n",
       "      <td>18</td>\n",
       "      <td>1</td>\n",
       "      <td>2</td>\n",
       "      <td>4</td>\n",
       "      <td>8</td>\n",
       "      <td>1</td>\n",
       "      <td>0</td>\n",
       "      <td>0</td>\n",
       "      <td>0</td>\n",
       "      <td>0</td>\n",
       "      <td>0</td>\n",
       "      <td>0</td>\n",
       "      <td>3</td>\n",
       "      <td>11</td>\n",
       "      <td>0</td>\n",
       "    </tr>\n",
       "    <tr>\n",
       "      <th>128</th>\n",
       "      <td>8268</td>\n",
       "      <td>1961</td>\n",
       "      <td>PhD</td>\n",
       "      <td>Married</td>\n",
       "      <td>NaN</td>\n",
       "      <td>0</td>\n",
       "      <td>1</td>\n",
       "      <td>2013-07-11</td>\n",
       "      <td>23</td>\n",
       "      <td>352</td>\n",
       "      <td>0</td>\n",
       "      <td>27</td>\n",
       "      <td>10</td>\n",
       "      <td>0</td>\n",
       "      <td>15</td>\n",
       "      <td>3</td>\n",
       "      <td>6</td>\n",
       "      <td>1</td>\n",
       "      <td>7</td>\n",
       "      <td>6</td>\n",
       "      <td>0</td>\n",
       "      <td>0</td>\n",
       "      <td>0</td>\n",
       "      <td>0</td>\n",
       "      <td>0</td>\n",
       "      <td>0</td>\n",
       "      <td>3</td>\n",
       "      <td>11</td>\n",
       "      <td>0</td>\n",
       "    </tr>\n",
       "    <tr>\n",
       "      <th>133</th>\n",
       "      <td>1295</td>\n",
       "      <td>1963</td>\n",
       "      <td>Graduation</td>\n",
       "      <td>Married</td>\n",
       "      <td>NaN</td>\n",
       "      <td>0</td>\n",
       "      <td>1</td>\n",
       "      <td>2013-08-11</td>\n",
       "      <td>96</td>\n",
       "      <td>231</td>\n",
       "      <td>65</td>\n",
       "      <td>196</td>\n",
       "      <td>38</td>\n",
       "      <td>71</td>\n",
       "      <td>124</td>\n",
       "      <td>1</td>\n",
       "      <td>6</td>\n",
       "      <td>5</td>\n",
       "      <td>7</td>\n",
       "      <td>4</td>\n",
       "      <td>0</td>\n",
       "      <td>0</td>\n",
       "      <td>0</td>\n",
       "      <td>0</td>\n",
       "      <td>0</td>\n",
       "      <td>0</td>\n",
       "      <td>3</td>\n",
       "      <td>11</td>\n",
       "      <td>0</td>\n",
       "    </tr>\n",
       "    <tr>\n",
       "      <th>312</th>\n",
       "      <td>2437</td>\n",
       "      <td>1989</td>\n",
       "      <td>Graduation</td>\n",
       "      <td>Married</td>\n",
       "      <td>NaN</td>\n",
       "      <td>0</td>\n",
       "      <td>0</td>\n",
       "      <td>2013-06-03</td>\n",
       "      <td>69</td>\n",
       "      <td>861</td>\n",
       "      <td>138</td>\n",
       "      <td>461</td>\n",
       "      <td>60</td>\n",
       "      <td>30</td>\n",
       "      <td>61</td>\n",
       "      <td>1</td>\n",
       "      <td>6</td>\n",
       "      <td>5</td>\n",
       "      <td>12</td>\n",
       "      <td>3</td>\n",
       "      <td>0</td>\n",
       "      <td>1</td>\n",
       "      <td>0</td>\n",
       "      <td>1</td>\n",
       "      <td>0</td>\n",
       "      <td>0</td>\n",
       "      <td>3</td>\n",
       "      <td>11</td>\n",
       "      <td>0</td>\n",
       "    </tr>\n",
       "    <tr>\n",
       "      <th>319</th>\n",
       "      <td>2863</td>\n",
       "      <td>1970</td>\n",
       "      <td>Graduation</td>\n",
       "      <td>Single</td>\n",
       "      <td>NaN</td>\n",
       "      <td>1</td>\n",
       "      <td>2</td>\n",
       "      <td>2013-08-23</td>\n",
       "      <td>67</td>\n",
       "      <td>738</td>\n",
       "      <td>20</td>\n",
       "      <td>172</td>\n",
       "      <td>52</td>\n",
       "      <td>50</td>\n",
       "      <td>20</td>\n",
       "      <td>6</td>\n",
       "      <td>2</td>\n",
       "      <td>3</td>\n",
       "      <td>10</td>\n",
       "      <td>7</td>\n",
       "      <td>0</td>\n",
       "      <td>1</td>\n",
       "      <td>0</td>\n",
       "      <td>1</td>\n",
       "      <td>0</td>\n",
       "      <td>0</td>\n",
       "      <td>3</td>\n",
       "      <td>11</td>\n",
       "      <td>0</td>\n",
       "    </tr>\n",
       "    <tr>\n",
       "      <th>1379</th>\n",
       "      <td>10475</td>\n",
       "      <td>1970</td>\n",
       "      <td>Master</td>\n",
       "      <td>Together</td>\n",
       "      <td>NaN</td>\n",
       "      <td>0</td>\n",
       "      <td>1</td>\n",
       "      <td>2013-04-01</td>\n",
       "      <td>39</td>\n",
       "      <td>187</td>\n",
       "      <td>5</td>\n",
       "      <td>65</td>\n",
       "      <td>26</td>\n",
       "      <td>20</td>\n",
       "      <td>14</td>\n",
       "      <td>2</td>\n",
       "      <td>4</td>\n",
       "      <td>2</td>\n",
       "      <td>6</td>\n",
       "      <td>5</td>\n",
       "      <td>0</td>\n",
       "      <td>0</td>\n",
       "      <td>0</td>\n",
       "      <td>0</td>\n",
       "      <td>0</td>\n",
       "      <td>0</td>\n",
       "      <td>3</td>\n",
       "      <td>11</td>\n",
       "      <td>0</td>\n",
       "    </tr>\n",
       "    <tr>\n",
       "      <th>1382</th>\n",
       "      <td>2902</td>\n",
       "      <td>1958</td>\n",
       "      <td>Graduation</td>\n",
       "      <td>Together</td>\n",
       "      <td>NaN</td>\n",
       "      <td>1</td>\n",
       "      <td>1</td>\n",
       "      <td>2012-09-03</td>\n",
       "      <td>87</td>\n",
       "      <td>19</td>\n",
       "      <td>4</td>\n",
       "      <td>12</td>\n",
       "      <td>2</td>\n",
       "      <td>2</td>\n",
       "      <td>6</td>\n",
       "      <td>1</td>\n",
       "      <td>1</td>\n",
       "      <td>0</td>\n",
       "      <td>3</td>\n",
       "      <td>5</td>\n",
       "      <td>0</td>\n",
       "      <td>0</td>\n",
       "      <td>0</td>\n",
       "      <td>0</td>\n",
       "      <td>0</td>\n",
       "      <td>0</td>\n",
       "      <td>3</td>\n",
       "      <td>11</td>\n",
       "      <td>0</td>\n",
       "    </tr>\n",
       "    <tr>\n",
       "      <th>1383</th>\n",
       "      <td>4345</td>\n",
       "      <td>1964</td>\n",
       "      <td>2n Cycle</td>\n",
       "      <td>Single</td>\n",
       "      <td>NaN</td>\n",
       "      <td>1</td>\n",
       "      <td>1</td>\n",
       "      <td>2014-01-12</td>\n",
       "      <td>49</td>\n",
       "      <td>5</td>\n",
       "      <td>1</td>\n",
       "      <td>9</td>\n",
       "      <td>2</td>\n",
       "      <td>0</td>\n",
       "      <td>4</td>\n",
       "      <td>1</td>\n",
       "      <td>1</td>\n",
       "      <td>0</td>\n",
       "      <td>2</td>\n",
       "      <td>7</td>\n",
       "      <td>0</td>\n",
       "      <td>0</td>\n",
       "      <td>0</td>\n",
       "      <td>0</td>\n",
       "      <td>0</td>\n",
       "      <td>0</td>\n",
       "      <td>3</td>\n",
       "      <td>11</td>\n",
       "      <td>0</td>\n",
       "    </tr>\n",
       "    <tr>\n",
       "      <th>1386</th>\n",
       "      <td>3769</td>\n",
       "      <td>1972</td>\n",
       "      <td>PhD</td>\n",
       "      <td>Together</td>\n",
       "      <td>NaN</td>\n",
       "      <td>1</td>\n",
       "      <td>0</td>\n",
       "      <td>2014-03-02</td>\n",
       "      <td>17</td>\n",
       "      <td>25</td>\n",
       "      <td>1</td>\n",
       "      <td>13</td>\n",
       "      <td>0</td>\n",
       "      <td>0</td>\n",
       "      <td>3</td>\n",
       "      <td>1</td>\n",
       "      <td>1</td>\n",
       "      <td>0</td>\n",
       "      <td>3</td>\n",
       "      <td>7</td>\n",
       "      <td>0</td>\n",
       "      <td>0</td>\n",
       "      <td>0</td>\n",
       "      <td>0</td>\n",
       "      <td>0</td>\n",
       "      <td>0</td>\n",
       "      <td>3</td>\n",
       "      <td>11</td>\n",
       "      <td>0</td>\n",
       "    </tr>\n",
       "    <tr>\n",
       "      <th>2059</th>\n",
       "      <td>7187</td>\n",
       "      <td>1969</td>\n",
       "      <td>Master</td>\n",
       "      <td>Together</td>\n",
       "      <td>NaN</td>\n",
       "      <td>1</td>\n",
       "      <td>1</td>\n",
       "      <td>2013-05-18</td>\n",
       "      <td>52</td>\n",
       "      <td>375</td>\n",
       "      <td>42</td>\n",
       "      <td>48</td>\n",
       "      <td>94</td>\n",
       "      <td>66</td>\n",
       "      <td>96</td>\n",
       "      <td>7</td>\n",
       "      <td>4</td>\n",
       "      <td>10</td>\n",
       "      <td>4</td>\n",
       "      <td>3</td>\n",
       "      <td>0</td>\n",
       "      <td>0</td>\n",
       "      <td>0</td>\n",
       "      <td>0</td>\n",
       "      <td>0</td>\n",
       "      <td>0</td>\n",
       "      <td>3</td>\n",
       "      <td>11</td>\n",
       "      <td>0</td>\n",
       "    </tr>\n",
       "    <tr>\n",
       "      <th>2061</th>\n",
       "      <td>1612</td>\n",
       "      <td>1981</td>\n",
       "      <td>PhD</td>\n",
       "      <td>Single</td>\n",
       "      <td>NaN</td>\n",
       "      <td>1</td>\n",
       "      <td>0</td>\n",
       "      <td>2013-05-31</td>\n",
       "      <td>82</td>\n",
       "      <td>23</td>\n",
       "      <td>0</td>\n",
       "      <td>15</td>\n",
       "      <td>0</td>\n",
       "      <td>2</td>\n",
       "      <td>7</td>\n",
       "      <td>2</td>\n",
       "      <td>3</td>\n",
       "      <td>0</td>\n",
       "      <td>3</td>\n",
       "      <td>6</td>\n",
       "      <td>0</td>\n",
       "      <td>0</td>\n",
       "      <td>0</td>\n",
       "      <td>0</td>\n",
       "      <td>0</td>\n",
       "      <td>0</td>\n",
       "      <td>3</td>\n",
       "      <td>11</td>\n",
       "      <td>0</td>\n",
       "    </tr>\n",
       "    <tr>\n",
       "      <th>2078</th>\n",
       "      <td>5079</td>\n",
       "      <td>1971</td>\n",
       "      <td>Graduation</td>\n",
       "      <td>Married</td>\n",
       "      <td>NaN</td>\n",
       "      <td>1</td>\n",
       "      <td>1</td>\n",
       "      <td>2013-03-03</td>\n",
       "      <td>82</td>\n",
       "      <td>71</td>\n",
       "      <td>1</td>\n",
       "      <td>16</td>\n",
       "      <td>0</td>\n",
       "      <td>0</td>\n",
       "      <td>9</td>\n",
       "      <td>4</td>\n",
       "      <td>2</td>\n",
       "      <td>1</td>\n",
       "      <td>3</td>\n",
       "      <td>8</td>\n",
       "      <td>0</td>\n",
       "      <td>0</td>\n",
       "      <td>0</td>\n",
       "      <td>0</td>\n",
       "      <td>0</td>\n",
       "      <td>0</td>\n",
       "      <td>3</td>\n",
       "      <td>11</td>\n",
       "      <td>0</td>\n",
       "    </tr>\n",
       "    <tr>\n",
       "      <th>2079</th>\n",
       "      <td>10339</td>\n",
       "      <td>1954</td>\n",
       "      <td>Master</td>\n",
       "      <td>Together</td>\n",
       "      <td>NaN</td>\n",
       "      <td>0</td>\n",
       "      <td>1</td>\n",
       "      <td>2013-06-23</td>\n",
       "      <td>83</td>\n",
       "      <td>161</td>\n",
       "      <td>0</td>\n",
       "      <td>22</td>\n",
       "      <td>0</td>\n",
       "      <td>0</td>\n",
       "      <td>24</td>\n",
       "      <td>2</td>\n",
       "      <td>4</td>\n",
       "      <td>1</td>\n",
       "      <td>4</td>\n",
       "      <td>6</td>\n",
       "      <td>0</td>\n",
       "      <td>0</td>\n",
       "      <td>0</td>\n",
       "      <td>0</td>\n",
       "      <td>0</td>\n",
       "      <td>0</td>\n",
       "      <td>3</td>\n",
       "      <td>11</td>\n",
       "      <td>0</td>\n",
       "    </tr>\n",
       "    <tr>\n",
       "      <th>2081</th>\n",
       "      <td>3117</td>\n",
       "      <td>1955</td>\n",
       "      <td>Graduation</td>\n",
       "      <td>Single</td>\n",
       "      <td>NaN</td>\n",
       "      <td>0</td>\n",
       "      <td>1</td>\n",
       "      <td>2013-10-18</td>\n",
       "      <td>95</td>\n",
       "      <td>264</td>\n",
       "      <td>0</td>\n",
       "      <td>21</td>\n",
       "      <td>12</td>\n",
       "      <td>6</td>\n",
       "      <td>147</td>\n",
       "      <td>3</td>\n",
       "      <td>6</td>\n",
       "      <td>1</td>\n",
       "      <td>5</td>\n",
       "      <td>7</td>\n",
       "      <td>0</td>\n",
       "      <td>0</td>\n",
       "      <td>0</td>\n",
       "      <td>0</td>\n",
       "      <td>0</td>\n",
       "      <td>0</td>\n",
       "      <td>3</td>\n",
       "      <td>11</td>\n",
       "      <td>0</td>\n",
       "    </tr>\n",
       "    <tr>\n",
       "      <th>2084</th>\n",
       "      <td>5250</td>\n",
       "      <td>1943</td>\n",
       "      <td>Master</td>\n",
       "      <td>Widow</td>\n",
       "      <td>NaN</td>\n",
       "      <td>0</td>\n",
       "      <td>0</td>\n",
       "      <td>2013-10-30</td>\n",
       "      <td>75</td>\n",
       "      <td>532</td>\n",
       "      <td>126</td>\n",
       "      <td>490</td>\n",
       "      <td>164</td>\n",
       "      <td>126</td>\n",
       "      <td>126</td>\n",
       "      <td>1</td>\n",
       "      <td>5</td>\n",
       "      <td>5</td>\n",
       "      <td>11</td>\n",
       "      <td>1</td>\n",
       "      <td>0</td>\n",
       "      <td>0</td>\n",
       "      <td>1</td>\n",
       "      <td>0</td>\n",
       "      <td>0</td>\n",
       "      <td>0</td>\n",
       "      <td>3</td>\n",
       "      <td>11</td>\n",
       "      <td>1</td>\n",
       "    </tr>\n",
       "    <tr>\n",
       "      <th>2228</th>\n",
       "      <td>8720</td>\n",
       "      <td>1978</td>\n",
       "      <td>2n Cycle</td>\n",
       "      <td>Together</td>\n",
       "      <td>NaN</td>\n",
       "      <td>0</td>\n",
       "      <td>0</td>\n",
       "      <td>2012-08-12</td>\n",
       "      <td>53</td>\n",
       "      <td>32</td>\n",
       "      <td>2</td>\n",
       "      <td>1607</td>\n",
       "      <td>12</td>\n",
       "      <td>4</td>\n",
       "      <td>22</td>\n",
       "      <td>0</td>\n",
       "      <td>0</td>\n",
       "      <td>0</td>\n",
       "      <td>1</td>\n",
       "      <td>0</td>\n",
       "      <td>0</td>\n",
       "      <td>1</td>\n",
       "      <td>0</td>\n",
       "      <td>0</td>\n",
       "      <td>0</td>\n",
       "      <td>0</td>\n",
       "      <td>3</td>\n",
       "      <td>11</td>\n",
       "      <td>0</td>\n",
       "    </tr>\n",
       "  </tbody>\n",
       "</table>\n",
       "</div>"
      ],
      "text/plain": [
       "         id  birth_year   education marital_status  income  kids_at_home   \n",
       "10     1994        1983  Graduation        Married     NaN             1  \\\n",
       "27     5255        1986  Graduation         Single     NaN             1   \n",
       "43     7281        1959         PhD         Single     NaN             0   \n",
       "48     7244        1951  Graduation         Single     NaN             2   \n",
       "58     8557        1982  Graduation         Single     NaN             1   \n",
       "71    10629        1973    2n Cycle        Married     NaN             1   \n",
       "90     8996        1957         PhD        Married     NaN             2   \n",
       "91     9235        1957  Graduation         Single     NaN             1   \n",
       "92     5798        1973      Master       Together     NaN             0   \n",
       "128    8268        1961         PhD        Married     NaN             0   \n",
       "133    1295        1963  Graduation        Married     NaN             0   \n",
       "312    2437        1989  Graduation        Married     NaN             0   \n",
       "319    2863        1970  Graduation         Single     NaN             1   \n",
       "1379  10475        1970      Master       Together     NaN             0   \n",
       "1382   2902        1958  Graduation       Together     NaN             1   \n",
       "1383   4345        1964    2n Cycle         Single     NaN             1   \n",
       "1386   3769        1972         PhD       Together     NaN             1   \n",
       "2059   7187        1969      Master       Together     NaN             1   \n",
       "2061   1612        1981         PhD         Single     NaN             1   \n",
       "2078   5079        1971  Graduation        Married     NaN             1   \n",
       "2079  10339        1954      Master       Together     NaN             0   \n",
       "2081   3117        1955  Graduation         Single     NaN             0   \n",
       "2084   5250        1943      Master          Widow     NaN             0   \n",
       "2228   8720        1978    2n Cycle       Together     NaN             0   \n",
       "\n",
       "      teens_at_home date_customer  days_last_purchase  wines  fruits  meat   \n",
       "10                0    2013-11-15                  11      5       5     6  \\\n",
       "27                0    2013-02-20                  19      5       1     3   \n",
       "43                0    2013-11-05                  80     81      11    50   \n",
       "48                1    2014-01-01                  96     48       5    48   \n",
       "58                0    2013-06-17                  57     11       3    22   \n",
       "71                0    2012-09-14                  25     25       3    43   \n",
       "90                1    2012-11-19                   4    230      42   192   \n",
       "91                1    2014-05-27                  45      7       0     8   \n",
       "92                0    2013-11-23                  87    445      37   359   \n",
       "128               1    2013-07-11                  23    352       0    27   \n",
       "133               1    2013-08-11                  96    231      65   196   \n",
       "312               0    2013-06-03                  69    861     138   461   \n",
       "319               2    2013-08-23                  67    738      20   172   \n",
       "1379              1    2013-04-01                  39    187       5    65   \n",
       "1382              1    2012-09-03                  87     19       4    12   \n",
       "1383              1    2014-01-12                  49      5       1     9   \n",
       "1386              0    2014-03-02                  17     25       1    13   \n",
       "2059              1    2013-05-18                  52    375      42    48   \n",
       "2061              0    2013-05-31                  82     23       0    15   \n",
       "2078              1    2013-03-03                  82     71       1    16   \n",
       "2079              1    2013-06-23                  83    161       0    22   \n",
       "2081              1    2013-10-18                  95    264       0    21   \n",
       "2084              0    2013-10-30                  75    532     126   490   \n",
       "2228              0    2012-08-12                  53     32       2  1607   \n",
       "\n",
       "      fish  sweets  gold  discount_purchases  web_purchases   \n",
       "10       0       2     1                   1              1  \\\n",
       "27       3     263   362                   0             27   \n",
       "43       3       2    39                   1              1   \n",
       "48       6      10     7                   3              2   \n",
       "58       2       2     6                   2              2   \n",
       "71      17       4    17                   3              3   \n",
       "90      49      37    53                  12              7   \n",
       "91       2       0     1                   1              1   \n",
       "92      98      28    18                   1              2   \n",
       "128     10       0    15                   3              6   \n",
       "133     38      71   124                   1              6   \n",
       "312     60      30    61                   1              6   \n",
       "319     52      50    20                   6              2   \n",
       "1379    26      20    14                   2              4   \n",
       "1382     2       2     6                   1              1   \n",
       "1383     2       0     4                   1              1   \n",
       "1386     0       0     3                   1              1   \n",
       "2059    94      66    96                   7              4   \n",
       "2061     0       2     7                   2              3   \n",
       "2078     0       0     9                   4              2   \n",
       "2079     0       0    24                   2              4   \n",
       "2081    12       6   147                   3              6   \n",
       "2084   164     126   126                   1              5   \n",
       "2228    12       4    22                   0              0   \n",
       "\n",
       "      catalog_purchases  store_purchases  web_visits  accepted_campaign_3   \n",
       "10                    0                2           7                    0  \\\n",
       "27                    0                0           1                    0   \n",
       "43                    3                4           2                    0   \n",
       "48                    1                4           6                    0   \n",
       "58                    0                3           6                    0   \n",
       "71                    0                3           8                    0   \n",
       "90                    2                8           9                    0   \n",
       "91                    0                2           7                    0   \n",
       "92                    4                8           1                    0   \n",
       "128                   1                7           6                    0   \n",
       "133                   5                7           4                    0   \n",
       "312                   5               12           3                    0   \n",
       "319                   3               10           7                    0   \n",
       "1379                  2                6           5                    0   \n",
       "1382                  0                3           5                    0   \n",
       "1383                  0                2           7                    0   \n",
       "1386                  0                3           7                    0   \n",
       "2059                 10                4           3                    0   \n",
       "2061                  0                3           6                    0   \n",
       "2078                  1                3           8                    0   \n",
       "2079                  1                4           6                    0   \n",
       "2081                  1                5           7                    0   \n",
       "2084                  5               11           1                    0   \n",
       "2228                  0                1           0                    0   \n",
       "\n",
       "      accepted_campaign_4  accepted_campaign_5  accepted_campaign_1   \n",
       "10                      0                    0                    0  \\\n",
       "27                      0                    0                    0   \n",
       "43                      0                    0                    0   \n",
       "48                      0                    0                    0   \n",
       "58                      0                    0                    0   \n",
       "71                      0                    0                    0   \n",
       "90                      0                    0                    0   \n",
       "91                      0                    0                    0   \n",
       "92                      0                    0                    0   \n",
       "128                     0                    0                    0   \n",
       "133                     0                    0                    0   \n",
       "312                     1                    0                    1   \n",
       "319                     1                    0                    1   \n",
       "1379                    0                    0                    0   \n",
       "1382                    0                    0                    0   \n",
       "1383                    0                    0                    0   \n",
       "1386                    0                    0                    0   \n",
       "2059                    0                    0                    0   \n",
       "2061                    0                    0                    0   \n",
       "2078                    0                    0                    0   \n",
       "2079                    0                    0                    0   \n",
       "2081                    0                    0                    0   \n",
       "2084                    0                    1                    0   \n",
       "2228                    1                    0                    0   \n",
       "\n",
       "      accepted_campaign_2  complaint  cost_contact  revenue  response  \n",
       "10                      0          0             3       11         0  \n",
       "27                      0          0             3       11         0  \n",
       "43                      0          0             3       11         0  \n",
       "48                      0          0             3       11         0  \n",
       "58                      0          0             3       11         0  \n",
       "71                      0          0             3       11         0  \n",
       "90                      0          0             3       11         0  \n",
       "91                      0          0             3       11         0  \n",
       "92                      0          0             3       11         0  \n",
       "128                     0          0             3       11         0  \n",
       "133                     0          0             3       11         0  \n",
       "312                     0          0             3       11         0  \n",
       "319                     0          0             3       11         0  \n",
       "1379                    0          0             3       11         0  \n",
       "1382                    0          0             3       11         0  \n",
       "1383                    0          0             3       11         0  \n",
       "1386                    0          0             3       11         0  \n",
       "2059                    0          0             3       11         0  \n",
       "2061                    0          0             3       11         0  \n",
       "2078                    0          0             3       11         0  \n",
       "2079                    0          0             3       11         0  \n",
       "2081                    0          0             3       11         0  \n",
       "2084                    0          0             3       11         1  \n",
       "2228                    0          0             3       11         0  "
      ]
     },
     "execution_count": 11,
     "metadata": {},
     "output_type": "execute_result"
    }
   ],
   "source": [
    "# Where are the 24 missing values?\n",
    "df.loc[df.isna().any(axis=\"columns\")] # any row with a missing value"
   ]
  },
  {
   "cell_type": "markdown",
   "metadata": {},
   "source": [
    "The missing values represent 1% of the data. I will drop the data."
   ]
  },
  {
   "cell_type": "code",
   "execution_count": 12,
   "metadata": {},
   "outputs": [],
   "source": [
    "df = (\n",
    "    df.rename(columns=new_column_names)\n",
    ")\n",
    "df = df.dropna() # drop rows with missing values"
   ]
  },
  {
   "cell_type": "code",
   "execution_count": 13,
   "metadata": {},
   "outputs": [
    {
     "data": {
      "text/plain": [
       "(2216, 29)"
      ]
     },
     "execution_count": 13,
     "metadata": {},
     "output_type": "execute_result"
    }
   ],
   "source": [
    "df.shape"
   ]
  },
  {
   "cell_type": "code",
   "execution_count": 14,
   "metadata": {},
   "outputs": [
    {
     "data": {
      "text/plain": [
       "<Figure size 1000x600 with 0 Axes>"
      ]
     },
     "metadata": {},
     "output_type": "display_data"
    },
    {
     "data": {
      "image/png": "[encoded data removed]",
      "text/plain": [
       "<Figure size 1800x600 with 1 Axes>"
      ]
     },
     "metadata": {},
     "output_type": "display_data"
    }
   ],
   "source": [
    "plt.figure(figsize=(10,6))\n",
    "\n",
    "sns.displot(\n",
    "    data=df.isna().melt(value_name=\"missing\"),\n",
    "    y=\"variable\",\n",
    "    hue=\"missing\",\n",
    "    multiple=\"fill\",\n",
    "    \n",
    "    # Change aspect of the chart\n",
    "    aspect=3,\n",
    "    height=6,\n",
    "    \n",
    "    # Change colors\n",
    "    palette=[my_colors[5], my_colors[2]], \n",
    "    legend=False)\n",
    "\n",
    "plt.title(\"- Missing Values within the Dataframe -\", size=18, weight=\"bold\")\n",
    "plt.xlabel(\"Total Percentage\")\n",
    "plt.ylabel(\"Dataframe Variable\")\n",
    "plt.legend([\"Missing TRUE\", \"Missing FALSE\"]);"
   ]
  },
  {
   "cell_type": "markdown",
   "metadata": {},
   "source": [
    "It looks like we now have a complete data set."
   ]
  },
  {
   "cell_type": "markdown",
   "metadata": {},
   "source": [
    "#### Fix data types"
   ]
  },
  {
   "cell_type": "markdown",
   "metadata": {},
   "source": [
    "I will change the data types for the \"money\" columns to match income."
   ]
  },
  {
   "cell_type": "code",
   "execution_count": 15,
   "metadata": {},
   "outputs": [],
   "source": [
    "df = (\n",
    "    df.rename(columns=new_column_names)\n",
    "    .assign(date_customer=lambda df: pd.to_datetime(df[\"date_customer\"], \n",
    "                                                    format=\"%Y-%m-%d\"\n",
    "                                                    ),\n",
    "            education=lambda df: df[\"education\"].str.lower(),\n",
    "            marital_status=lambda df: df[\"marital_status\"].str.lower(),\n",
    "            wines=lambda df: df[\"wines\"].astype(\"float\"),\n",
    "            fruits=lambda df: df[\"fruits\"].astype(\"float\"),\n",
    "            meat=lambda df: df[\"meat\"].astype(\"float\"),\n",
    "            fish=lambda df: df[\"fish\"].astype(\"float\"),\n",
    "            sweets=lambda df: df[\"sweets\"].astype(\"float\"),\n",
    "            gold=lambda df: df[\"gold\"].astype(\"float\"),\n",
    "            )\n",
    ")\n",
    "df = df.dropna() # drop the rows with missing values"
   ]
  },
  {
   "cell_type": "code",
   "execution_count": 16,
   "metadata": {},
   "outputs": [
    {
     "data": {
      "text/html": [
       "<div>\n",
       "<style scoped>\n",
       "    .dataframe tbody tr th:only-of-type {\n",
       "        vertical-align: middle;\n",
       "    }\n",
       "\n",
       "    .dataframe tbody tr th {\n",
       "        vertical-align: top;\n",
       "    }\n",
       "\n",
       "    .dataframe thead th {\n",
       "        text-align: right;\n",
       "    }\n",
       "</style>\n",
       "<table border=\"1\" class=\"dataframe\">\n",
       "  <thead>\n",
       "    <tr style=\"text-align: right;\">\n",
       "      <th></th>\n",
       "      <th>id</th>\n",
       "      <th>birth_year</th>\n",
       "      <th>education</th>\n",
       "      <th>marital_status</th>\n",
       "      <th>income</th>\n",
       "      <th>kids_at_home</th>\n",
       "      <th>teens_at_home</th>\n",
       "      <th>date_customer</th>\n",
       "      <th>days_last_purchase</th>\n",
       "      <th>wines</th>\n",
       "      <th>fruits</th>\n",
       "      <th>meat</th>\n",
       "      <th>fish</th>\n",
       "      <th>sweets</th>\n",
       "      <th>gold</th>\n",
       "      <th>discount_purchases</th>\n",
       "      <th>web_purchases</th>\n",
       "      <th>catalog_purchases</th>\n",
       "      <th>store_purchases</th>\n",
       "      <th>web_visits</th>\n",
       "      <th>accepted_campaign_3</th>\n",
       "      <th>accepted_campaign_4</th>\n",
       "      <th>accepted_campaign_5</th>\n",
       "      <th>accepted_campaign_1</th>\n",
       "      <th>accepted_campaign_2</th>\n",
       "      <th>complaint</th>\n",
       "      <th>cost_contact</th>\n",
       "      <th>revenue</th>\n",
       "      <th>response</th>\n",
       "    </tr>\n",
       "  </thead>\n",
       "  <tbody>\n",
       "    <tr>\n",
       "      <th>0</th>\n",
       "      <td>5524</td>\n",
       "      <td>1957</td>\n",
       "      <td>graduation</td>\n",
       "      <td>single</td>\n",
       "      <td>58138.0</td>\n",
       "      <td>0</td>\n",
       "      <td>0</td>\n",
       "      <td>2012-09-04</td>\n",
       "      <td>58</td>\n",
       "      <td>635.0</td>\n",
       "      <td>88.0</td>\n",
       "      <td>546.0</td>\n",
       "      <td>172.0</td>\n",
       "      <td>88.0</td>\n",
       "      <td>88.0</td>\n",
       "      <td>3</td>\n",
       "      <td>8</td>\n",
       "      <td>10</td>\n",
       "      <td>4</td>\n",
       "      <td>7</td>\n",
       "      <td>0</td>\n",
       "      <td>0</td>\n",
       "      <td>0</td>\n",
       "      <td>0</td>\n",
       "      <td>0</td>\n",
       "      <td>0</td>\n",
       "      <td>3</td>\n",
       "      <td>11</td>\n",
       "      <td>1</td>\n",
       "    </tr>\n",
       "    <tr>\n",
       "      <th>1</th>\n",
       "      <td>2174</td>\n",
       "      <td>1954</td>\n",
       "      <td>graduation</td>\n",
       "      <td>single</td>\n",
       "      <td>46344.0</td>\n",
       "      <td>1</td>\n",
       "      <td>1</td>\n",
       "      <td>2014-03-08</td>\n",
       "      <td>38</td>\n",
       "      <td>11.0</td>\n",
       "      <td>1.0</td>\n",
       "      <td>6.0</td>\n",
       "      <td>2.0</td>\n",
       "      <td>1.0</td>\n",
       "      <td>6.0</td>\n",
       "      <td>2</td>\n",
       "      <td>1</td>\n",
       "      <td>1</td>\n",
       "      <td>2</td>\n",
       "      <td>5</td>\n",
       "      <td>0</td>\n",
       "      <td>0</td>\n",
       "      <td>0</td>\n",
       "      <td>0</td>\n",
       "      <td>0</td>\n",
       "      <td>0</td>\n",
       "      <td>3</td>\n",
       "      <td>11</td>\n",
       "      <td>0</td>\n",
       "    </tr>\n",
       "    <tr>\n",
       "      <th>2</th>\n",
       "      <td>4141</td>\n",
       "      <td>1965</td>\n",
       "      <td>graduation</td>\n",
       "      <td>together</td>\n",
       "      <td>71613.0</td>\n",
       "      <td>0</td>\n",
       "      <td>0</td>\n",
       "      <td>2013-08-21</td>\n",
       "      <td>26</td>\n",
       "      <td>426.0</td>\n",
       "      <td>49.0</td>\n",
       "      <td>127.0</td>\n",
       "      <td>111.0</td>\n",
       "      <td>21.0</td>\n",
       "      <td>42.0</td>\n",
       "      <td>1</td>\n",
       "      <td>8</td>\n",
       "      <td>2</td>\n",
       "      <td>10</td>\n",
       "      <td>4</td>\n",
       "      <td>0</td>\n",
       "      <td>0</td>\n",
       "      <td>0</td>\n",
       "      <td>0</td>\n",
       "      <td>0</td>\n",
       "      <td>0</td>\n",
       "      <td>3</td>\n",
       "      <td>11</td>\n",
       "      <td>0</td>\n",
       "    </tr>\n",
       "    <tr>\n",
       "      <th>3</th>\n",
       "      <td>6182</td>\n",
       "      <td>1984</td>\n",
       "      <td>graduation</td>\n",
       "      <td>together</td>\n",
       "      <td>26646.0</td>\n",
       "      <td>1</td>\n",
       "      <td>0</td>\n",
       "      <td>2014-02-10</td>\n",
       "      <td>26</td>\n",
       "      <td>11.0</td>\n",
       "      <td>4.0</td>\n",
       "      <td>20.0</td>\n",
       "      <td>10.0</td>\n",
       "      <td>3.0</td>\n",
       "      <td>5.0</td>\n",
       "      <td>2</td>\n",
       "      <td>2</td>\n",
       "      <td>0</td>\n",
       "      <td>4</td>\n",
       "      <td>6</td>\n",
       "      <td>0</td>\n",
       "      <td>0</td>\n",
       "      <td>0</td>\n",
       "      <td>0</td>\n",
       "      <td>0</td>\n",
       "      <td>0</td>\n",
       "      <td>3</td>\n",
       "      <td>11</td>\n",
       "      <td>0</td>\n",
       "    </tr>\n",
       "    <tr>\n",
       "      <th>4</th>\n",
       "      <td>5324</td>\n",
       "      <td>1981</td>\n",
       "      <td>phd</td>\n",
       "      <td>married</td>\n",
       "      <td>58293.0</td>\n",
       "      <td>1</td>\n",
       "      <td>0</td>\n",
       "      <td>2014-01-19</td>\n",
       "      <td>94</td>\n",
       "      <td>173.0</td>\n",
       "      <td>43.0</td>\n",
       "      <td>118.0</td>\n",
       "      <td>46.0</td>\n",
       "      <td>27.0</td>\n",
       "      <td>15.0</td>\n",
       "      <td>5</td>\n",
       "      <td>5</td>\n",
       "      <td>3</td>\n",
       "      <td>6</td>\n",
       "      <td>5</td>\n",
       "      <td>0</td>\n",
       "      <td>0</td>\n",
       "      <td>0</td>\n",
       "      <td>0</td>\n",
       "      <td>0</td>\n",
       "      <td>0</td>\n",
       "      <td>3</td>\n",
       "      <td>11</td>\n",
       "      <td>0</td>\n",
       "    </tr>\n",
       "  </tbody>\n",
       "</table>\n",
       "</div>"
      ],
      "text/plain": [
       "     id  birth_year   education marital_status   income  kids_at_home   \n",
       "0  5524        1957  graduation         single  58138.0             0  \\\n",
       "1  2174        1954  graduation         single  46344.0             1   \n",
       "2  4141        1965  graduation       together  71613.0             0   \n",
       "3  6182        1984  graduation       together  26646.0             1   \n",
       "4  5324        1981         phd        married  58293.0             1   \n",
       "\n",
       "   teens_at_home date_customer  days_last_purchase  wines  fruits   meat   \n",
       "0              0    2012-09-04                  58  635.0    88.0  546.0  \\\n",
       "1              1    2014-03-08                  38   11.0     1.0    6.0   \n",
       "2              0    2013-08-21                  26  426.0    49.0  127.0   \n",
       "3              0    2014-02-10                  26   11.0     4.0   20.0   \n",
       "4              0    2014-01-19                  94  173.0    43.0  118.0   \n",
       "\n",
       "    fish  sweets  gold  discount_purchases  web_purchases  catalog_purchases   \n",
       "0  172.0    88.0  88.0                   3              8                 10  \\\n",
       "1    2.0     1.0   6.0                   2              1                  1   \n",
       "2  111.0    21.0  42.0                   1              8                  2   \n",
       "3   10.0     3.0   5.0                   2              2                  0   \n",
       "4   46.0    27.0  15.0                   5              5                  3   \n",
       "\n",
       "   store_purchases  web_visits  accepted_campaign_3  accepted_campaign_4   \n",
       "0                4           7                    0                    0  \\\n",
       "1                2           5                    0                    0   \n",
       "2               10           4                    0                    0   \n",
       "3                4           6                    0                    0   \n",
       "4                6           5                    0                    0   \n",
       "\n",
       "   accepted_campaign_5  accepted_campaign_1  accepted_campaign_2  complaint   \n",
       "0                    0                    0                    0          0  \\\n",
       "1                    0                    0                    0          0   \n",
       "2                    0                    0                    0          0   \n",
       "3                    0                    0                    0          0   \n",
       "4                    0                    0                    0          0   \n",
       "\n",
       "   cost_contact  revenue  response  \n",
       "0             3       11         1  \n",
       "1             3       11         0  \n",
       "2             3       11         0  \n",
       "3             3       11         0  \n",
       "4             3       11         0  "
      ]
     },
     "execution_count": 16,
     "metadata": {},
     "output_type": "execute_result"
    }
   ],
   "source": [
    "df.head()"
   ]
  },
  {
   "cell_type": "markdown",
   "metadata": {},
   "source": [
    "### Inspect and drop unnecessary columns"
   ]
  },
  {
   "cell_type": "markdown",
   "metadata": {},
   "source": [
    "Most of the columns are self-explanatory. I checked the Kaggle discussion boards and someone asked the question if \"gold\" meant jewelry. This seems like a fair assumption, so we'll leave that column. Originally there were columns prefixed with Z. These were renamed to cost_contact and revenue. "
   ]
  },
  {
   "cell_type": "code",
   "execution_count": 17,
   "metadata": {},
   "outputs": [
    {
     "data": {
      "text/plain": [
       "cost_contact\n",
       "3    2216\n",
       "Name: count, dtype: int64"
      ]
     },
     "execution_count": 17,
     "metadata": {},
     "output_type": "execute_result"
    }
   ],
   "source": [
    "df[\"cost_contact\"].value_counts()"
   ]
  },
  {
   "cell_type": "code",
   "execution_count": 18,
   "metadata": {},
   "outputs": [
    {
     "data": {
      "text/plain": [
       "revenue\n",
       "11    2216\n",
       "Name: count, dtype: int64"
      ]
     },
     "execution_count": 18,
     "metadata": {},
     "output_type": "execute_result"
    }
   ],
   "source": [
    "df[\"revenue\"].value_counts()"
   ]
  },
  {
   "cell_type": "markdown",
   "metadata": {},
   "source": [
    "These two columns have repeat values with no meaning. We will drop them. We will also drop the ID column."
   ]
  },
  {
   "cell_type": "code",
   "execution_count": 19,
   "metadata": {},
   "outputs": [],
   "source": [
    "df = (\n",
    "    df.rename(columns=new_column_names)\n",
    "    .assign(date_customer=lambda df: pd.to_datetime(df[\"date_customer\"], \n",
    "                                                    format=\"%Y-%m-%d\"\n",
    "                                                    ),\n",
    "            education=lambda df: df[\"education\"].str.lower(),\n",
    "            marital_status=lambda df: df[\"marital_status\"].str.lower(),\n",
    "            wines=lambda df: df[\"wines\"].astype(\"float\"),\n",
    "            fruits=lambda df: df[\"fruits\"].astype(\"float\"),\n",
    "            meat=lambda df: df[\"meat\"].astype(\"float\"),\n",
    "            fish=lambda df: df[\"fish\"].astype(\"float\"),\n",
    "            sweets=lambda df: df[\"sweets\"].astype(\"float\"),\n",
    "            gold=lambda df: df[\"gold\"].astype(\"float\"),\n",
    "            )\n",
    ")\n",
    "df.drop(columns=[\"id\", \"cost_contact\", \"revenue\"], inplace=True) # drop ID and the columns with constant values\n",
    "df = df.dropna() # drop the rows with missing values"
   ]
  },
  {
   "cell_type": "code",
   "execution_count": null,
   "metadata": {},
   "outputs": [],
   "source": []
  },
  {
   "cell_type": "code",
   "execution_count": null,
   "metadata": {},
   "outputs": [],
   "source": []
  },
  {
   "cell_type": "markdown",
   "metadata": {},
   "source": [
    "It looks like we have some missing data in at least one column. Let's verify. For fun, we'll do it with a visual chart."
   ]
  },
  {
   "cell_type": "code",
   "execution_count": null,
   "metadata": {},
   "outputs": [],
   "source": [
    "plt.figure(figsize=(10,6))\n",
    "\n",
    "sns.displot(\n",
    "    data=df.isna().melt(value_name=\"missing\"),\n",
    "    y=\"variable\",\n",
    "    hue=\"missing\",\n",
    "    multiple=\"fill\",\n",
    "    \n",
    "    # Change aspect of the chart\n",
    "    aspect=3,\n",
    "    height=6,\n",
    "    # Change colors\n",
    "    palette=[my_colors[5], my_colors[2]], \n",
    "    legend=False)\n",
    "\n",
    "plt.title(\"- Missing Values within the Dataframe -\", size=18, weight=\"bold\")\n",
    "plt.xlabel(\"Total Percentage\")\n",
    "plt.ylabel(\"Dataframe Variable\")\n",
    "plt.legend([\"Missing TRUE\", \"Missing FALSE\"]);"
   ]
  },
  {
   "cell_type": "code",
   "execution_count": null,
   "metadata": {},
   "outputs": [],
   "source": [
    "# Count missing values in each column\n",
    "df.isna().sum()"
   ]
  },
  {
   "cell_type": "code",
   "execution_count": null,
   "metadata": {},
   "outputs": [],
   "source": [
    "# Check for duplicates\n",
    "df.duplicated().sum()"
   ]
  },
  {
   "cell_type": "markdown",
   "metadata": {},
   "source": [
    "We have 24 missing values under Income. Not bad. We will determine how best to impute these values later on."
   ]
  },
  {
   "cell_type": "code",
   "execution_count": null,
   "metadata": {},
   "outputs": [],
   "source": [
    "df.describe()"
   ]
  },
  {
   "cell_type": "markdown",
   "metadata": {},
   "source": [
    "There is no defintion for the Z_ columns. The data does not appear to be helpful, as there are no variation in the values themselves. We will therefore drop the Z_ columns."
   ]
  },
  {
   "cell_type": "code",
   "execution_count": null,
   "metadata": {},
   "outputs": [],
   "source": [
    "# Drop Z_CostContact and Z_Revenue \n",
    "df.drop(['Z_CostContact', 'Z_Revenue'], axis=1, inplace=True)\n",
    "df.head()"
   ]
  },
  {
   "cell_type": "markdown",
   "metadata": {},
   "source": [
    "We will change some of the column names to be more descriptive"
   ]
  },
  {
   "cell_type": "code",
   "execution_count": null,
   "metadata": {},
   "outputs": [],
   "source": [
    "# Update column names\n",
    "df.rename(columns={'Recency': 'Days_Last_Purchase',\n",
    "                   'MntWines': 'Wines',\n",
    "                     'MntFruits': 'Fruits',\n",
    "                     'MntMeatProducts': 'Meat',\n",
    "                     'MntFishProducts': 'Fish',\n",
    "                     'MntSweetProducts': 'Sweets',\n",
    "                     'MntGoldProds': 'Gold',\n",
    "                     'NumDealsPurchases': 'Discount_Purchases',\n",
    "                     'NumWebPurchases': 'Web_Purchases',\n",
    "                     'NumCatalogPurchases': 'Catalog_Purchases',\n",
    "                     'NumStorePurchases': 'Store_Purchases',\n",
    "                     'NumWebVisitsMonth': 'Web_Visits'}, inplace=True)"
   ]
  },
  {
   "cell_type": "code",
   "execution_count": null,
   "metadata": {},
   "outputs": [],
   "source": [
    "df.head()"
   ]
  },
  {
   "cell_type": "markdown",
   "metadata": {},
   "source": [
    "Before we create new features, we will first transform our categorical variables into encoded numbers."
   ]
  },
  {
   "cell_type": "code",
   "execution_count": null,
   "metadata": {},
   "outputs": [],
   "source": [
    "# Count the unique values in Education\n",
    "df.Education.value_counts()"
   ]
  },
  {
   "cell_type": "code",
   "execution_count": null,
   "metadata": {},
   "outputs": [],
   "source": [
    "# Education\n",
    "label_encoder = LabelEncoder()\n",
    "\n",
    "label_encoder.fit(df['Education'])\n",
    "df['Education'] = label_encoder.transform(df['Education'])"
   ]
  },
  {
   "cell_type": "code",
   "execution_count": null,
   "metadata": {},
   "outputs": [],
   "source": [
    "education_mappings = {index: label for index, label in enumerate(label_encoder.classes_)}\n",
    "print(education_mappings)"
   ]
  },
  {
   "cell_type": "code",
   "execution_count": null,
   "metadata": {},
   "outputs": [],
   "source": [
    "# Marital_Status\n",
    "df.Marital_Status.value_counts()"
   ]
  },
  {
   "cell_type": "code",
   "execution_count": null,
   "metadata": {},
   "outputs": [],
   "source": [
    "label_encoder.fit(df['Marital_Status'])\n",
    "df['Marital_Status'] = label_encoder.transform(df['Marital_Status'])"
   ]
  },
  {
   "cell_type": "code",
   "execution_count": null,
   "metadata": {},
   "outputs": [],
   "source": [
    "relationship_mappings = {index: label for index, label in enumerate(label_encoder.classes_)}\n",
    "print(relationship_mappings)"
   ]
  },
  {
   "cell_type": "code",
   "execution_count": null,
   "metadata": {},
   "outputs": [],
   "source": [
    "print(education_mappings)"
   ]
  },
  {
   "cell_type": "markdown",
   "metadata": {},
   "source": [
    "Let's log this info to W&B so we can refer to it more easily in the future."
   ]
  },
  {
   "cell_type": "code",
   "execution_count": null,
   "metadata": {},
   "outputs": [],
   "source": [
    "run = wandb.init(project='marketing-analytics', name='categorical_encodings', config=CONFIG)\n",
    "wandb.config.update({'education_mappings': education_mappings, 'relationship_mappings': relationship_mappings})\n",
    "wandb.finish()"
   ]
  },
  {
   "cell_type": "markdown",
   "metadata": {},
   "source": [
    "We will also convert the Dt_Customer column to a standard datetime dtype."
   ]
  },
  {
   "cell_type": "code",
   "execution_count": null,
   "metadata": {},
   "outputs": [],
   "source": [
    "df['Dt_Customer'] = pd.to_datetime(df['Dt_Customer'])"
   ]
  },
  {
   "cell_type": "code",
   "execution_count": null,
   "metadata": {},
   "outputs": [],
   "source": [
    "print(df['Dt_Customer'].dtype)"
   ]
  },
  {
   "cell_type": "markdown",
   "metadata": {},
   "source": [
    "We will now clean up the missing values in Income."
   ]
  },
  {
   "cell_type": "code",
   "execution_count": null,
   "metadata": {},
   "outputs": [],
   "source": [
    "# How is the missing values in income distributed by education?\n",
    "plt.figure(figsize=(10,6))\n",
    "sns.boxplot(x='Education', y='Income', data=df, palette=my_colors)\n",
    "plt.title(\"- Income by Education -\", size=18, weight=\"bold\")\n",
    "plt.xlabel(\"Education\")\n",
    "plt.ylabel(\"Income\");\n"
   ]
  },
  {
   "cell_type": "markdown",
   "metadata": {},
   "source": [
    "It looks like we have at least one significant outlier for Education 2. We should remove this, as it will help to determine the best value for imputing missing data."
   ]
  },
  {
   "cell_type": "code",
   "execution_count": null,
   "metadata": {},
   "outputs": [],
   "source": [
    "Q1 = df['Income'].quantile(0.25)\n",
    "Q3 = df['Income'].quantile(0.75)\n",
    "IQR = Q3 - Q1\n",
    "\n",
    "lower_bound = Q1 - 1.5 * IQR\n",
    "upper_bound = Q3 + 1.5 * IQR\n",
    "\n",
    "df_filtered = df[(df['Income'] >= lower_bound) & (df['Income'] <= upper_bound)]\n"
   ]
  },
  {
   "cell_type": "code",
   "execution_count": null,
   "metadata": {},
   "outputs": [],
   "source": [
    "original_rows = df.shape[0]\n",
    "filtered_rows = df_filtered.shape[0]\n",
    "rows_removed = original_rows - filtered_rows\n",
    "print(f\"Original number of rows: {original_rows}\")\n",
    "print(f\"Number of rows after removing outliers: {filtered_rows}\")\n",
    "print(f\"Number of rows removed: {rows_removed}\")"
   ]
  },
  {
   "cell_type": "code",
   "execution_count": null,
   "metadata": {},
   "outputs": [],
   "source": [
    "plt.figure(figsize=(12, 6))\n",
    "plt.subplot(1, 2, 1)\n",
    "df['Income'].plot(kind='box', title='Before Removing Outliers')\n",
    "\n",
    "plt.subplot(1, 2, 2)\n",
    "df_filtered['Income'].plot(kind='box', title='After Removing Outliers')\n",
    "\n",
    "plt.show()"
   ]
  },
  {
   "cell_type": "code",
   "execution_count": null,
   "metadata": {},
   "outputs": [],
   "source": [
    "df_filtered.head()"
   ]
  },
  {
   "cell_type": "code",
   "execution_count": null,
   "metadata": {},
   "outputs": [],
   "source": [
    "df_filtered.shape"
   ]
  },
  {
   "cell_type": "code",
   "execution_count": null,
   "metadata": {},
   "outputs": [],
   "source": [
    "# Calculate the median income for each education level in the filtered data\n",
    "median_income_by_education = df_filtered.groupby('Education')['Income'].median()\n",
    "print(median_income_by_education)"
   ]
  },
  {
   "cell_type": "code",
   "execution_count": null,
   "metadata": {},
   "outputs": [],
   "source": [
    "# Show the number of missing values in Income by Education\n",
    "df_filtered.groupby('Education')['Income'].apply(lambda x: x.isnull().sum())"
   ]
  },
  {
   "cell_type": "markdown",
   "metadata": {},
   "source": [
    "It looks like we removed the null values when we removed the outliers. Let's leave this for now and come back to it if we think more formal imputation can help to improve our model in the future. "
   ]
  },
  {
   "cell_type": "markdown",
   "metadata": {},
   "source": [
    "### Feature Engineering"
   ]
  },
  {
   "cell_type": "markdown",
   "metadata": {},
   "source": [
    "We will create some new features that may help us with model prediction. \n",
    "\n",
    "1. Total amount purchased (Add Wines, Fruits, Meat, Fish, Sweets, Gold).\n",
    "2. Total items purchased (Add Web, Catalog, Store). We will not add Discount as it isn't clear where the discount occurred.\n",
    "3. Total accepted campaigns (Add all Accepted Campaigns).\n",
    "4. Total childeren (Add kids and teens at home).\n",
    "5. Age of the customer.\n",
    "6. How long has the person been a customer."
   ]
  },
  {
   "cell_type": "code",
   "execution_count": null,
   "metadata": {},
   "outputs": [],
   "source": [
    "# Create a new column that adds wines, fruits, meat, fish, sweets, and gold\n",
    "df_filtered['Total_Spent'] = df_filtered['Wines'] + df_filtered['Fruits'] + df_filtered['Meat'] + df_filtered['Fish'] + df_filtered['Sweets'] + df_filtered['Gold']\n",
    "\n",
    "# Create a new column that adds the number of purchases\n",
    "df_filtered['Total_Purchases'] = df_filtered['Discount_Purchases'] + df_filtered['Web_Purchases'] + df_filtered['Catalog_Purchases'] + df_filtered['Store_Purchases']\n",
    "\n",
    "# Create a new column that adds the total number of accepted offers\n",
    "df_filtered['Total_Accepted_Offers'] = df_filtered['AcceptedCmp3'] + df_filtered['AcceptedCmp4'] + df_filtered['AcceptedCmp5'] + df_filtered['AcceptedCmp1'] + df_filtered['AcceptedCmp2']\n",
    "\n",
    "# Create a new column that adds the total number of children\n",
    "df_filtered['Total_Children'] = df_filtered['Kidhome'] + df_filtered['Teenhome']\n",
    "\n",
    "\n",
    "df.head()"
   ]
  },
  {
   "cell_type": "markdown",
   "metadata": {},
   "source": [
    "### EDA and visualizations"
   ]
  },
  {
   "cell_type": "code",
   "execution_count": null,
   "metadata": {},
   "outputs": [],
   "source": [
    "# Look at the distribution of the target variable\n",
    "sns.countplot(x='Response', data=df_filtered)\n",
    "plt.title('Distribution of Target Variable (Response)')\n",
    "plt.show()"
   ]
  },
  {
   "cell_type": "markdown",
   "metadata": {},
   "source": [
    "The dataset is heavily imbalanced. We run the risk of the model becoming biased toward the majority class, in this case negative responses. There are a couple of options that come to mind:\n",
    "\n",
    "1. Use the XGBoost built-in parameter ``scale_pos_weight`` which helps in handling imbalanced datasets. The parameter is used to give more weight to the minority class and balance the target variable. Reference article: https://forecastegy.com/posts/xgboost-imbalanced-data-scale_pos_weight-python/\n",
    "2. Use SMOTE (Synthetic Minority Over-sampling Technique) to oversample the minority class. This technique increases the number of instances of the minority class (in this case, Yes) by duplicating them or generating synthetic samples. Reference article: https://machinelearningmastery.com/smote-oversampling-for-imbalanced-classification/ \n",
    "\n",
    "I will choose the first option, using XGBoost's built-in ``scale_pos_weight`` parameter. SMOTE may introduce additional noise into the data. In addition, the reference article points out that the original SMOTE paper \"suggested combining SMOTE with random undersampling of the majority class.\" I'll keep it as lightweight as possible and test my luck with hyperparameter tuning. "
   ]
  },
  {
   "cell_type": "code",
   "execution_count": null,
   "metadata": {},
   "outputs": [],
   "source": [
    "# Response by Income\n",
    "sns.boxplot(x='Response', y='Income', data=df_filtered)\n",
    "plt.title('Income Distribution by Response')\n",
    "plt.show()"
   ]
  },
  {
   "cell_type": "markdown",
   "metadata": {},
   "source": [
    "Roughly speaking, median income of people who don't respond is 50K vs 65K for people who have responded. Not too bad of a gap, but income does appear to be a driver for whether a person responds to a campaign."
   ]
  },
  {
   "cell_type": "code",
   "execution_count": null,
   "metadata": {},
   "outputs": [],
   "source": [
    "sns.countplot(x='Education', hue='Response', data=df_filtered)\n",
    "plt.title('Response Distribution Across Education Levels')\n",
    "plt.xticks(rotation=45)\n",
    "plt.show()"
   ]
  },
  {
   "cell_type": "markdown",
   "metadata": {},
   "source": [
    "The 0 category is cryptic. I'm going to assume it's customers without an HS diploma. 1 is HS diploma and 2 is college graduate. This is our biggest audience."
   ]
  },
  {
   "cell_type": "markdown",
   "metadata": {},
   "source": [
    "Let's try some clustering to see if we can see anymore patterns in the data that may help with our model approach. "
   ]
  },
  {
   "cell_type": "code",
   "execution_count": null,
   "metadata": {},
   "outputs": [],
   "source": [
    "# Work with scaled data\n",
    "scaler = StandardScaler()\n",
    "scaled_df = scaler.fit_transform(df_filtered.drop(['ID', 'Dt_Customer', 'Response'], axis=1))\n"
   ]
  },
  {
   "cell_type": "code",
   "execution_count": null,
   "metadata": {},
   "outputs": [],
   "source": [
    "# determin the number of K\n",
    "from kneed import KneeLocator\n",
    "from sklearn.cluster import KMeans\n",
    "wcss = []\n",
    "for i in range(1, 11):\n",
    "    kmeans = KMeans(n_clusters=i,\n",
    "                    init='k-means++',\n",
    "                    max_iter=300,\n",
    "                    n_init=10,\n",
    "                    random_state=0)\n",
    "    kmeans.fit(scaled_df)\n",
    "    wcss.append(kmeans.inertia_)\n",
    "\n",
    "k1 = KneeLocator(range(1, 11), wcss, curve='convex', direction='decreasing')\n",
    "optimized_k = k1.elbow\n",
    "\n",
    "# visualize the result\n",
    "plt.figure(figsize=(10,6))\n",
    "plt.plot(range(1, 11), wcss, marker='o', linestyle='--')\n",
    "plt.vlines(optimized_k, plt.ylim()[0], plt.ylim()[1], linestyles='dashed')\n",
    "plt.xlabel('Number of clusters')\n",
    "plt.ylabel('WCSS')\n",
    "plt.title('K-means clustering')\n",
    "plt.show()"
   ]
  },
  {
   "cell_type": "markdown",
   "metadata": {},
   "source": [
    "It looks like the optimal number of customer segments is 3. "
   ]
  },
  {
   "cell_type": "code",
   "execution_count": null,
   "metadata": {},
   "outputs": [],
   "source": [
    "# K-means clustering\n",
    "kmeans = KMeans(n_clusters=optimized_k, random_state=42)\n",
    "kmeans.fit(scaled_df)\n",
    "labels = kmeans.labels_\n",
    "df_filtered['Cluster'] = labels"
   ]
  },
  {
   "cell_type": "code",
   "execution_count": null,
   "metadata": {},
   "outputs": [],
   "source": [
    "# Let's dig a little deeper into segmentation\n",
    "fig, ax = plt.subplots(figsize=(10, 7))  \n",
    "legend = []\n",
    "x_label='Year_Birth'\n",
    "y_label='Income'\n",
    "ax.set_xlabel(x_label)             \n",
    "ax.set_ylabel(y_label)  \n",
    "plt.title('Customer Segmentation by Income and Birth Year')\n",
    "for c, rows in df_filtered.groupby('Cluster'):\n",
    "    plt.scatter(rows[x_label], rows[y_label], s = 100)\n",
    "    legend.append(\"Cluster %s\" % c)\n",
    "plt.legend(legend, loc=\"upper left\")\n",
    "plt.grid()\n",
    "plt.show()"
   ]
  },
  {
   "cell_type": "code",
   "execution_count": null,
   "metadata": {},
   "outputs": [],
   "source": [
    "# How many customers are in each cluster?\n",
    "df_filtered.groupby('Cluster')['ID'].count()"
   ]
  },
  {
   "cell_type": "code",
   "execution_count": null,
   "metadata": {},
   "outputs": [],
   "source": [
    "# Mean Income by Cluster\n",
    "df_filtered.groupby('Cluster')['Income'].mean()"
   ]
  },
  {
   "cell_type": "markdown",
   "metadata": {},
   "source": [
    "In looks like in the clustering graphic that there are a few people whose birth year is ~1900. Let's check."
   ]
  },
  {
   "cell_type": "code",
   "execution_count": null,
   "metadata": {},
   "outputs": [],
   "source": [
    "# How many people have a birth year of 1900?\n",
    "df_filtered[df_filtered['Year_Birth'] <= 1900].shape[0]"
   ]
  },
  {
   "cell_type": "code",
   "execution_count": null,
   "metadata": {},
   "outputs": [],
   "source": [
    "# Let's remove the outliers\n",
    "df_filtered = df_filtered[df_filtered['Year_Birth'] > 1900]\n",
    "df_filtered.shape"
   ]
  },
  {
   "cell_type": "markdown",
   "metadata": {},
   "source": [
    "Let's create a couple of more features for fun."
   ]
  },
  {
   "cell_type": "code",
   "execution_count": null,
   "metadata": {},
   "outputs": [],
   "source": [
    "# Create a new column that calculates the age of the customer\n",
    "df_filtered['Age'] = 2024 - df_filtered['Year_Birth']\n",
    "\n",
    "# Create a new column that calculates how long the person has been a customer\n",
    "df_filtered['Days_Customer'] = (pd.to_datetime('2024-01-01') - df_filtered['Dt_Customer']).dt.days\n"
   ]
  },
  {
   "cell_type": "code",
   "execution_count": null,
   "metadata": {},
   "outputs": [],
   "source": [
    "df_filtered.head()"
   ]
  },
  {
   "cell_type": "code",
   "execution_count": null,
   "metadata": {},
   "outputs": [],
   "source": [
    "# Check that the outliers have been removed\n",
    "fig, ax = plt.subplots(figsize=(10, 7))  \n",
    "legend = []\n",
    "x_label='Year_Birth'\n",
    "y_label='Income'\n",
    "ax.set_xlabel(x_label)             \n",
    "ax.set_ylabel(y_label)  \n",
    "plt.title('Customer Segmentation by Income and Birth Year')\n",
    "for c, rows in df_filtered.groupby('Cluster'):\n",
    "    plt.scatter(rows[x_label], rows[y_label], s = 100)\n",
    "    legend.append(\"Cluster %s\" % c)\n",
    "plt.legend(legend, loc=\"upper left\")\n",
    "plt.grid()\n",
    "plt.show()"
   ]
  },
  {
   "cell_type": "code",
   "execution_count": null,
   "metadata": {},
   "outputs": [],
   "source": [
    "# Drop the columns that we don't need\n",
    "df_filtered.drop(['ID', 'Year_Birth', 'Dt_Customer'], axis=1, inplace=True)"
   ]
  },
  {
   "cell_type": "markdown",
   "metadata": {},
   "source": [
    "There have been quite a few updates to the dataset. Let's save the latest version and log to W&B. "
   ]
  },
  {
   "cell_type": "code",
   "execution_count": null,
   "metadata": {},
   "outputs": [],
   "source": [
    "# Save the cleaned dataset and log to W&B\n",
    "df_filtered.to_csv('data/marketing_campaign_cleaned.csv', index=False)\n",
    "\n",
    "# Save dataset artifact.\n",
    "save_dataset_artifact(run_name='cleaned_dataset_artifact', \n",
    "                      artifact_name='marketing_campaign_cleaned', \n",
    "                      path='data/marketing_campaign_cleaned.csv')\n"
   ]
  },
  {
   "cell_type": "markdown",
   "metadata": {},
   "source": [
    "### Decision Tree"
   ]
  },
  {
   "cell_type": "markdown",
   "metadata": {},
   "source": [
    "We'll start with a simple decision tree model to get warmed up."
   ]
  },
  {
   "cell_type": "code",
   "execution_count": null,
   "metadata": {},
   "outputs": [],
   "source": [
    "# Start a W&B run\n",
    "run = wandb.init(\n",
    "    project='marketing-analytics', \n",
    "    config=CONFIG, \n",
    "    notes=\"Decision Tree Baseline\", \n",
    "    tags=[\"baseline\", \"decision-tree\"]\n",
    ")"
   ]
  },
  {
   "cell_type": "code",
   "execution_count": null,
   "metadata": {},
   "outputs": [],
   "source": [
    "# Create a dictionary of hyperparameters that can be used in a Decision Tree Classifier\n",
    "config = wandb.config\n",
    "\n",
    "# Hyperparameters\n",
    "config.max_depth = 3\n",
    "config.min_samples_split = 2\n",
    "config.min_samples_leaf = 1\n",
    "config.criterion = 'gini'\n",
    "config.max_features = None\n",
    "config.random_state = 42"
   ]
  },
  {
   "cell_type": "code",
   "execution_count": null,
   "metadata": {},
   "outputs": [],
   "source": [
    "from sklearn.tree import DecisionTreeClassifier\n",
    "from sklearn.metrics import classification_report, confusion_matrix\n",
    "from sklearn import tree\n",
    "\n",
    "# Create the X and y variables\n",
    "X = df_filtered.drop('Response', axis=1)\n",
    "y = df_filtered['Response']\n",
    "\n",
    "# Split the data into training and testing sets\n",
    "X_train, X_test, y_train, y_test = train_test_split(X, y, random_state=config.random_state, test_size=0.2, stratify=y)\n",
    "\n",
    "# Create the Decision Tree Classifier\n",
    "clf = DecisionTreeClassifier(max_depth=config.max_depth, \n",
    "                             min_samples_split=config.min_samples_split, \n",
    "                             min_samples_leaf=config.min_samples_leaf, \n",
    "                             criterion=config.criterion, \n",
    "                             max_features=config.max_features, \n",
    "                             random_state=config.random_state)\n",
    "\n",
    "# Fit the model to the training data\n",
    "clf.fit(X_train, y_train)"
   ]
  },
  {
   "cell_type": "code",
   "execution_count": null,
   "metadata": {},
   "outputs": [],
   "source": [
    "# Log predictions on the test set into W&B\n",
    "y_pred = clf.predict(X_test)\n",
    "wandb.log({\"y_pred\": y_pred})\n"
   ]
  },
  {
   "cell_type": "code",
   "execution_count": null,
   "metadata": {},
   "outputs": [],
   "source": [
    "print(classification_report(y_test, y_pred))\n",
    "print(confusion_matrix(y_test, y_pred))\n",
    "accuracy = accuracy_score(y_test, y_pred)"
   ]
  },
  {
   "cell_type": "code",
   "execution_count": null,
   "metadata": {},
   "outputs": [],
   "source": [
    "# Log the accuracy to W&B\n",
    "wandb.log({\"accuracy\": accuracy})"
   ]
  },
  {
   "cell_type": "markdown",
   "metadata": {},
   "source": [
    "The overall accuracy is 85%. This is for both classes. Not the greatest, but that is to be expected because our data is highly imbalanced. The problem is improving the accuracy on the positive classes (class 1), where a customer has engaged with a campaign. The low F-1 score indicates that the model is not performing well in predicting class 1, which is no suprise because of the lower amount of samples in our data."
   ]
  },
  {
   "cell_type": "code",
   "execution_count": null,
   "metadata": {},
   "outputs": [],
   "source": [
    "plt.figure(figsize=(20,10))\n",
    "tree.plot_tree(clf, filled=True, feature_names=X.columns, class_names=['No', 'Yes'], rounded=True)\n",
    "plt.show()"
   ]
  },
  {
   "cell_type": "code",
   "execution_count": null,
   "metadata": {},
   "outputs": [],
   "source": [
    "# Finish the W&B run\n",
    "wandb.finish()"
   ]
  },
  {
   "cell_type": "markdown",
   "metadata": {},
   "source": [
    "### Random Forest"
   ]
  },
  {
   "cell_type": "markdown",
   "metadata": {},
   "source": [
    "I'm going to try SMOTE on a Random Forest Classifier. I'll be looking to improve on the low F1 score for the positive class."
   ]
  },
  {
   "cell_type": "code",
   "execution_count": null,
   "metadata": {},
   "outputs": [],
   "source": [
    "df_smote = df_filtered.copy()"
   ]
  },
  {
   "cell_type": "code",
   "execution_count": null,
   "metadata": {},
   "outputs": [],
   "source": [
    "X_smote = df_smote.drop('Response', axis=1)\n",
    "y_smote = df_smote['Response']"
   ]
  },
  {
   "cell_type": "code",
   "execution_count": null,
   "metadata": {},
   "outputs": [],
   "source": [
    "from imblearn.over_sampling import SMOTE"
   ]
  },
  {
   "cell_type": "code",
   "execution_count": null,
   "metadata": {},
   "outputs": [],
   "source": [
    "# Split the data into training and testing sets\n",
    "X_train_smote, X_test_smote, y_train_smote, y_test_smote = train_test_split(X_smote, y_smote, random_state=42, test_size=0.2, stratify=y_smote)"
   ]
  },
  {
   "cell_type": "code",
   "execution_count": null,
   "metadata": {},
   "outputs": [],
   "source": [
    "# Apply SMOTE to the training data\n",
    "sm = SMOTE(random_state=42)\n",
    "X_train_smote, y_train_smote = sm.fit_resample(X_train_smote, y_train_smote)"
   ]
  },
  {
   "cell_type": "code",
   "execution_count": null,
   "metadata": {},
   "outputs": [],
   "source": [
    "# Create the Decision Tree Classifier\n",
    "from sklearn.ensemble import RandomForestClassifier\n",
    "rf_clf = RandomForestClassifier(random_state=42)"
   ]
  },
  {
   "cell_type": "code",
   "execution_count": null,
   "metadata": {},
   "outputs": [],
   "source": [
    "# Fit the model to the training data\n",
    "rf_clf.fit(X_train_smote, y_train_smote)"
   ]
  },
  {
   "cell_type": "code",
   "execution_count": null,
   "metadata": {},
   "outputs": [],
   "source": [
    "# Evaluate the model on the test data\n",
    "y_pred_smote = rf_clf.predict(X_test_smote)\n",
    "\n",
    "# Print classification report and confusion matrix\n",
    "print(classification_report(y_test_smote, y_pred_smote))\n",
    "print(confusion_matrix(y_test_smote, y_pred_smote))"
   ]
  },
  {
   "cell_type": "markdown",
   "metadata": {},
   "source": [
    "Some improvement on the F1 Score for our positive class, and maybe with some more tuning we could see increased performance. But we'll move onto XGB and see what we can do there."
   ]
  },
  {
   "cell_type": "markdown",
   "metadata": {},
   "source": [
    "### XGBoost"
   ]
  },
  {
   "cell_type": "code",
   "execution_count": null,
   "metadata": {},
   "outputs": [],
   "source": [
    "# Start a run\n",
    "run = wandb.init(project='marketing-analytics', job_type=\"train-model\", notes=\"XGBoost Baseline\")"
   ]
  },
  {
   "cell_type": "code",
   "execution_count": null,
   "metadata": {},
   "outputs": [],
   "source": [
    "# Set up and log model hyperparameters\n",
    "early_stopping_rounds = 40\n",
    "\n",
    "bst_params = {\n",
    "    \"objective\": \"binary:logistic\",\n",
    "    \"base_score\": 0.5,\n",
    "    \"gamma\": 1,  ## def: 0\n",
    "    \"learning_rate\": 0.1,  ## def: 0.1\n",
    "    \"max_depth\": 3,\n",
    "    \"min_child_weight\": 100,  ## def: 1\n",
    "    \"n_estimators\": 25,\n",
    "    \"nthread\": 24,\n",
    "    \"random_state\": 42,\n",
    "    \"reg_alpha\": 0,\n",
    "    \"reg_lambda\": 0,  ## def: 1\n",
    "    \"eval_metric\": [\"auc\", \"logloss\"],\n",
    "    \"tree_method\": \"hist\",  # use `gpu_hist` to train on GPU\n",
    "}"
   ]
  },
  {
   "cell_type": "code",
   "execution_count": null,
   "metadata": {},
   "outputs": [],
   "source": [
    "# Log the parameters to W&B\n",
    "run.config.update(dict(bst_params))\n",
    "run.config.update({\"early_stopping_rounds\": early_stopping_rounds})"
   ]
  },
  {
   "cell_type": "code",
   "execution_count": null,
   "metadata": {},
   "outputs": [],
   "source": [
    "# Build the XGBoost model using df_filtered\n",
    "X = df_filtered.drop('Response', axis=1)\n",
    "y = df_filtered['Response']"
   ]
  },
  {
   "cell_type": "code",
   "execution_count": null,
   "metadata": {},
   "outputs": [],
   "source": [
    "# Split the data into training and testing sets\n",
    "X_train, X_test, y_train, y_test = train_test_split(X, y, random_state=42, test_size=0.2, stratify=y)"
   ]
  },
  {
   "cell_type": "code",
   "execution_count": null,
   "metadata": {},
   "outputs": [],
   "source": [
    "# Create the DMatrix\n",
    "dtrain = xgb.DMatrix(X_train, label=y_train)\n",
    "dtest = xgb.DMatrix(X_test, label=y_test)"
   ]
  },
  {
   "cell_type": "code",
   "execution_count": null,
   "metadata": {},
   "outputs": [],
   "source": [
    "# Train the model\n",
    "bst = xgb.train(bst_params, dtrain, evals=[(dtest, \"test\")], early_stopping_rounds=early_stopping_rounds)"
   ]
  },
  {
   "cell_type": "code",
   "execution_count": null,
   "metadata": {},
   "outputs": [],
   "source": [
    "# Let's try this \n",
    "from xgboost import XGBClassifier\n",
    "\n",
    "# Create the XGBClassifier\n",
    "scale_pos_weight = len([label for label in y_train if label == 0]) / len([label for label in y_train if label == 1])\n"
   ]
  },
  {
   "cell_type": "code",
   "execution_count": null,
   "metadata": {},
   "outputs": [],
   "source": [
    "# Initialize the XGBoost model\n",
    "model = XGBClassifier(scale_pos_weight=scale_pos_weight, bst_params=bst_params)"
   ]
  },
  {
   "cell_type": "code",
   "execution_count": null,
   "metadata": {},
   "outputs": [],
   "source": [
    "# Fit the model\n",
    "model.fit(X_train, y_train)"
   ]
  },
  {
   "cell_type": "code",
   "execution_count": null,
   "metadata": {},
   "outputs": [],
   "source": [
    "# Make predictions on the test set\n",
    "y_pred = model.predict(X_test)"
   ]
  },
  {
   "cell_type": "code",
   "execution_count": null,
   "metadata": {},
   "outputs": [],
   "source": [
    "# Print classification report and confusion matrix\n",
    "print(classification_report(y_test, y_pred))\n",
    "print(confusion_matrix(y_test, y_pred))\n"
   ]
  },
  {
   "cell_type": "code",
   "execution_count": null,
   "metadata": {},
   "outputs": [],
   "source": [
    "wandb.finish()"
   ]
  },
  {
   "cell_type": "markdown",
   "metadata": {},
   "source": [
    "### XGBoost Part 2 - Out of the Box (OOB)"
   ]
  },
  {
   "cell_type": "code",
   "execution_count": null,
   "metadata": {},
   "outputs": [],
   "source": [
    "df_filtered.head()"
   ]
  },
  {
   "cell_type": "code",
   "execution_count": null,
   "metadata": {},
   "outputs": [],
   "source": [
    "# Create an out of the box XGBoost classifier\n",
    "xg_oob = XGBClassifier()\n",
    "xg_oob.fit(X_train, y_train)\n",
    "xg_oob.score(X_test, y_test)"
   ]
  },
  {
   "cell_type": "markdown",
   "metadata": {},
   "source": [
    "Add max_depth and n_estimator parameters. \n",
    "\n",
    "1. max_depth: the max depth of each tree in the model. Depth is the longest path from a root to a leaf. Increasing max_depth can help the model learn complex relationships in the data, but it can also lead to overfitting.\n",
    "2. n_estimators: specifies the number of trees to build. Each tree in XGBoost is meant to correct the errors made by the previous trees. Similar to max_depth, increasing the number of estimators can improve the model's ability to fit the data, but it can also to overfitting, especially if the individual trees are already deep."
   ]
  },
  {
   "cell_type": "code",
   "execution_count": null,
   "metadata": {},
   "outputs": [],
   "source": [
    "xg_oob2 = XGBClassifier(max_depth=2, n_estimators=2)\n",
    "xg_oob2.fit(X_train, y_train)\n",
    "xg_oob2.score(X_test, y_test)"
   ]
  },
  {
   "cell_type": "markdown",
   "metadata": {},
   "source": [
    "A slight drop off. Let's use dtreeviz to inspect."
   ]
  },
  {
   "cell_type": "code",
   "execution_count": null,
   "metadata": {},
   "outputs": [],
   "source": [
    "import dtreeviz"
   ]
  },
  {
   "cell_type": "code",
   "execution_count": null,
   "metadata": {},
   "outputs": [],
   "source": [
    "viz = dtreeviz.model(xg_oob2, X_train=X, y_train=y, \n",
    "               target_name='Response', \n",
    "               feature_names=list(X_train.columns), \n",
    "               class_names=['No', 'Yes'], \n",
    "               tree_index=0)"
   ]
  },
  {
   "cell_type": "code",
   "execution_count": null,
   "metadata": {},
   "outputs": [],
   "source": [
    "viz.view(depth_range_to_display=[0,2], scale=2.5)"
   ]
  },
  {
   "cell_type": "markdown",
   "metadata": {},
   "source": [
    "Before we try cross-validation, we'll continue to dive deeper into other parameters."
   ]
  },
  {
   "cell_type": "code",
   "execution_count": null,
   "metadata": {},
   "outputs": [],
   "source": [
    "# Try XGBoost with early stopping\n",
    "xg_es = XGBClassifier(early_stopping_rounds=20)\n",
    "xg_es.fit(X_train, y_train,\n",
    "       eval_set=[(X_train, y_train), \n",
    "                 (X_test, y_test)],\n",
    "       )\n",
    "xg_es.score(X_test, y_test)"
   ]
  },
  {
   "cell_type": "code",
   "execution_count": null,
   "metadata": {},
   "outputs": [],
   "source": [
    "# What was the limit of the early stopping?\n",
    "xg_es.best_iteration"
   ]
  },
  {
   "cell_type": "markdown",
   "metadata": {},
   "source": [
    "Explore the score."
   ]
  },
  {
   "cell_type": "code",
   "execution_count": null,
   "metadata": {},
   "outputs": [],
   "source": [
    "results = xg_es.evals_result()"
   ]
  },
  {
   "cell_type": "markdown",
   "metadata": {},
   "source": [
    "From Matt Harrison's Effective XGBoost book!"
   ]
  },
  {
   "cell_type": "code",
   "execution_count": null,
   "metadata": {},
   "outputs": [],
   "source": [
    "# Plot the results\n",
    "fix, ax = plt.subplots(figsize=(8,4)) \n",
    "ax = (pd.DataFrame({'training': results['validation_0']['logloss'],\n",
    "                    'testing': results['validation_1']['logloss']}) # create a dataframe with the logloss values\n",
    "  .assign(ntrees=lambda adf: range(1, len(adf)+1)) # add a column for the number of trees\n",
    "  .set_index('ntrees') # make that column the index\n",
    "  .plot(figsize=(5,4), ax=ax,\n",
    "      title='eval_results with early_stopping')\n",
    ")\n",
    "ax.set_xlabel('ntrees')"
   ]
  },
  {
   "cell_type": "code",
   "execution_count": null,
   "metadata": {},
   "outputs": [],
   "source": [
    "# Try a model with 15 trees. Do we get the same result as with early stopping?\n",
    "xg15 = XGBClassifier(n_estimators=15)\n",
    "xg15.fit(X_train, y_train,\n",
    "         eval_set=[(X_train, y_train),\n",
    "                     (X_test, y_test)]\n",
    "            )\n",
    "xg15.score(X_test, y_test)"
   ]
  },
  {
   "cell_type": "markdown",
   "metadata": {},
   "source": [
    "Not quite exactly the same, but close. We still haven't gone back to the imbalanced data issue. "
   ]
  },
  {
   "cell_type": "code",
   "execution_count": null,
   "metadata": {},
   "outputs": [],
   "source": [
    "# Import Yellowbrick\n",
    "import yellowbrick.model_selection as ms \n",
    "from yellowbrick import classifier"
   ]
  },
  {
   "cell_type": "code",
   "execution_count": null,
   "metadata": {},
   "outputs": [],
   "source": [
    "# Let's try Yellowbrick\n",
    "fig, ax = plt.subplots(figsize=(8, 4))\n",
    "ms.validation_curve(xgb.XGBClassifier(), X_train, y_train, param_name='gamma',\n",
    "    param_range=[0, .5, 1,5,10, 20, 30], n_jobs=-1, ax=ax)"
   ]
  },
  {
   "cell_type": "markdown",
   "metadata": {},
   "source": [
    "It looks like Gamma is best around 20. "
   ]
  },
  {
   "cell_type": "code",
   "execution_count": null,
   "metadata": {},
   "outputs": [],
   "source": [
    "# Create a new XGBoost model using scaled_pos_weight\n",
    "scale_pos_weight = len([label for label in y_train if label == 0]) / len([label for label in y_train if label == 1])\n",
    "\n",
    "# Initialize the XGBoost model\n",
    "xg_spw = XGBClassifier(scale_pos_weight=scale_pos_weight)\n",
    "\n",
    "# Fit the model\n",
    "xg_spw.fit(X_train, y_train)\n",
    "\n",
    "# Make predictions on the test set\n",
    "y_pred = xg_spw.predict(X_test)\n",
    "\n",
    "# Print classification report and confusion matrix\n",
    "print(classification_report(y_test, y_pred))\n",
    "print(confusion_matrix(y_test, y_pred))\n"
   ]
  },
  {
   "cell_type": "markdown",
   "metadata": {},
   "source": [
    "### Hyperopt"
   ]
  },
  {
   "cell_type": "code",
   "execution_count": null,
   "metadata": {},
   "outputs": [],
   "source": [
    "from hyperopt import fmin, tpe, hp, STATUS_OK, Trials \n",
    "from typing import Any, Dict, Union"
   ]
  },
  {
   "cell_type": "code",
   "execution_count": null,
   "metadata": {},
   "outputs": [],
   "source": [
    "def hyperparameter_tuning(space: Dict[str, Union[float, int]], X_train: pd.DataFrame, y_train: pd.Series,\n",
    "                    X_test: pd.DataFrame, y_test: pd.Series,\n",
    "                    early_stopping_rounds: int=50,\n",
    "                    metric:callable=accuracy_score) -> Dict[str, Any]:\n",
    "    int_vals = ['max_depth', 'reg_alpha']\n",
    "    space = {k: (int(val) if k in int_vals else val)\n",
    "            for k,val in space.items()}\n",
    "    space['early_stopping_rounds'] = early_stopping_rounds \n",
    "    model = xgb.XGBClassifier(**space)\n",
    "    evaluation = [(X_train, y_train),\n",
    "                  (X_test, y_test)]\n",
    "    model.fit(X_train, y_train,\n",
    "    eval_set=evaluation, verbose=False)\n",
    "    pred = model.predict(X_test)\n",
    "    score = metric(y_test, pred)\n",
    "    return {'loss': -score, 'status': STATUS_OK, 'model': model}"
   ]
  },
  {
   "cell_type": "code",
   "execution_count": null,
   "metadata": {},
   "outputs": [],
   "source": [
    "# Define the search space\n",
    "options = {'max_depth': hp.quniform('max_depth', 1, 8, 1), # tree \n",
    "           'min_child_weight': hp.loguniform('min_child_weight', -2, 3), \n",
    "           'subsample': hp.uniform('subsample', 0.5, 1), # stochastic \n",
    "           'colsample_bytree': hp.uniform('colsample_bytree', 0.5, 1), \n",
    "           'reg_alpha': hp.uniform('reg_alpha', 0, 10),\n",
    "           'reg_lambda': hp.uniform('reg_lambda', 1, 10),\n",
    "           'gamma': hp.loguniform('gamma', -10, 10), # regularization \n",
    "           'learning_rate': hp.loguniform('learning_rate', -7, 0), # boosting \n",
    "           'random_state': 42\n",
    "}"
   ]
  },
  {
   "cell_type": "code",
   "execution_count": null,
   "metadata": {},
   "outputs": [],
   "source": [
    "trials = Trials()\n",
    "best = fmin(fn=lambda space: hyperparameter_tuning(space, X_train, y_train, X_test, y_test),\n",
    "            space=options,\n",
    "            algo=tpe.suggest,\n",
    "            max_evals=2_000,\n",
    "            trials=trials)\n"
   ]
  },
  {
   "cell_type": "code",
   "execution_count": null,
   "metadata": {},
   "outputs": [],
   "source": [
    "# Inspection of the best model\n",
    "best_model = trials.best_trial['result']['model']\n",
    "best_model"
   ]
  },
  {
   "cell_type": "markdown",
   "metadata": {},
   "source": [
    "Store the best model parameters in a dictionary."
   ]
  },
  {
   "cell_type": "code",
   "execution_count": null,
   "metadata": {},
   "outputs": [],
   "source": [
    "best_params = best_model.get_params()\n",
    "best_params\n"
   ]
  },
  {
   "cell_type": "code",
   "execution_count": null,
   "metadata": {},
   "outputs": [],
   "source": [
    "best_params = {'objective': 'binary:logistic',\n",
    " 'base_score': None,\n",
    " 'booster': None,\n",
    " 'callbacks': None,\n",
    " 'colsample_bylevel': None,\n",
    " 'colsample_bynode': None,\n",
    " 'colsample_bytree': 0.9705100197049035,\n",
    " 'device': None,\n",
    " #'early_stopping_rounds': 50,\n",
    " 'enable_categorical': False,\n",
    " 'eval_metric': None,\n",
    " 'feature_types': None,\n",
    " 'gamma': 0.0002778120817967341,\n",
    " 'grow_policy': None,\n",
    " 'importance_type': None,\n",
    " 'interaction_constraints': None,\n",
    " 'learning_rate': 0.5405865428987514,\n",
    " 'max_bin': None,\n",
    " 'max_cat_threshold': None,\n",
    " 'max_cat_to_onehot': None,\n",
    " 'max_delta_step': None,\n",
    " 'max_depth': 4,\n",
    " 'max_leaves': None,\n",
    " 'min_child_weight': 3.368346608335616,\n",
    " 'monotone_constraints': None,\n",
    " 'multi_strategy': None,\n",
    " #'n_estimators': None,\n",
    " 'n_jobs': None,\n",
    " 'num_parallel_tree': None,\n",
    " 'random_state': 42,\n",
    " 'reg_alpha': 1,\n",
    " 'reg_lambda': 1.0150610613186282,\n",
    " 'sampling_method': None,\n",
    " 'scale_pos_weight': None,\n",
    " 'subsample': 0.776565739766952,\n",
    " 'tree_method': None,\n",
    " 'validate_parameters': None,\n",
    " 'verbosity': None}"
   ]
  },
  {
   "cell_type": "code",
   "execution_count": null,
   "metadata": {},
   "outputs": [],
   "source": [
    "xg_ex = xgb.XGBClassifier(**best_params, early_stopping_rounds=50,\n",
    "                          n_estimators=500)\n",
    "xg_ex.fit(X_train, y_train,\n",
    "       eval_set=[(X_train, y_train),\n",
    "                 (X_test, y_test)\n",
    "                ],\n",
    "verbose=100\n",
    ")"
   ]
  },
  {
   "cell_type": "code",
   "execution_count": null,
   "metadata": {},
   "outputs": [],
   "source": [
    "# How does the model perform?\n",
    "xg_ex.score(X_test, y_test)"
   ]
  },
  {
   "cell_type": "code",
   "execution_count": null,
   "metadata": {},
   "outputs": [],
   "source": [
    "# Print the confusion matrix\n",
    "y_pred = xg_ex.predict(X_test)\n",
    "print(classification_report(y_test, y_pred))\n",
    "print(confusion_matrix(y_test, y_pred))\n"
   ]
  },
  {
   "cell_type": "markdown",
   "metadata": {},
   "source": [
    "The F1 score of the positive labels has jumped to .62. That's the best score so far."
   ]
  },
  {
   "cell_type": "code",
   "execution_count": null,
   "metadata": {},
   "outputs": [],
   "source": [
    "cm = confusion_matrix(y_test, y_pred)\n",
    "cm"
   ]
  },
  {
   "cell_type": "code",
   "execution_count": null,
   "metadata": {},
   "outputs": [],
   "source": [
    "ax = sns.heatmap(cm/np.sum(cm), annot=True,  fmt='.2%', cmap='Blues')\n",
    "\n",
    "ax.set_title('Confusion Matrix\\n\\n');\n",
    "ax.set_xlabel('\\nPredicted Values')\n",
    "ax.set_ylabel('Actual Values ');\n",
    "\n",
    "plt.show()"
   ]
  },
  {
   "cell_type": "code",
   "execution_count": null,
   "metadata": {},
   "outputs": [],
   "source": [
    "# What are some of the most important features?\n",
    "plt.figure(figsize=(10,6))\n",
    "plt.barh(X_train.columns, xg_ex.feature_importances_)\n",
    "plt.title('Feature Importance')\n",
    "plt.xlabel('Importance')\n",
    "plt.ylabel('Feature')\n",
    "plt.show()"
   ]
  },
  {
   "cell_type": "markdown",
   "metadata": {},
   "source": [
    "Let's explore what Hyperopt is doing."
   ]
  },
  {
   "cell_type": "code",
   "execution_count": null,
   "metadata": {},
   "outputs": [],
   "source": [
    "from typing import Any, Dict, Sequence\n",
    "def trial2df(trial: Sequence[Dict[str, Any]]) -> pd.DataFrame:\n",
    "     \"\"\"\n",
    "    Convert a Trial object (sequence of trial dictionaries)\n",
    "    to a Pandas DataFrame.\n",
    "    Parameters\n",
    "    ----------\n",
    "    trial : List[Dict[str, Any]]\n",
    "        A list of trial dictionaries.\n",
    "    Returns\n",
    "    -------\n",
    "    pd.DataFrame\n",
    "        A DataFrame with columns for the loss, trial id, and\n",
    "    \"\"\" \n",
    "     vals = []\n",
    "     for t in trial:\n",
    "          result = t['result']\n",
    "          misc = t['misc']\n",
    "          val = {k:(v[0] if isinstance(v, list) else v)\n",
    "                 for k,v in misc['vals'].items()\n",
    "                    }\n",
    "          val['loss'] = result['loss']\n",
    "          val['tid'] = t['tid']\n",
    "          vals.append(val)\n",
    "     return pd.DataFrame(vals)\n",
    "     "
   ]
  },
  {
   "cell_type": "code",
   "execution_count": null,
   "metadata": {},
   "outputs": [],
   "source": [
    "hyper2hr = trial2df(trials)"
   ]
  },
  {
   "cell_type": "code",
   "execution_count": null,
   "metadata": {},
   "outputs": [],
   "source": [
    "hyper2hr.sort_values('loss', ascending=False).head(10)"
   ]
  },
  {
   "cell_type": "code",
   "execution_count": null,
   "metadata": {},
   "outputs": [],
   "source": [
    "fig, ax = plt.subplots(figsize=(8, 4)) \n",
    "sns.heatmap(hyper2hr.corr(method='spearman'), cmap='RdBu', annot=True, fmt='.2f', vmin=-1, vmax=1, ax=ax )"
   ]
  },
  {
   "cell_type": "markdown",
   "metadata": {},
   "source": [
    "#### New version of scale_pos_weight"
   ]
  },
  {
   "cell_type": "code",
   "execution_count": null,
   "metadata": {},
   "outputs": [],
   "source": [
    "# Let's try with a new version of scale_pos_weight\n",
    "positive_count = sum(y_train == 1)\n",
    "negative_count = sum(y_train == 0)\n",
    "scale_pos_weight = negative_count / positive_count"
   ]
  },
  {
   "cell_type": "code",
   "execution_count": null,
   "metadata": {},
   "outputs": [],
   "source": [
    "updated_params = {'objective': 'binary:logistic',\n",
    " 'base_score': None,\n",
    " 'booster': None,\n",
    " 'callbacks': None,\n",
    " 'colsample_bylevel': None,\n",
    " 'colsample_bynode': None,\n",
    " 'colsample_bytree': 0.9705100197049035,\n",
    " 'device': None,\n",
    " #'early_stopping_rounds': 50,\n",
    " 'enable_categorical': False,\n",
    " 'eval_metric': None,\n",
    " 'feature_types': None,\n",
    " 'gamma': 0.0002778120817967341,\n",
    " 'grow_policy': None,\n",
    " 'importance_type': None,\n",
    " 'interaction_constraints': None,\n",
    " 'learning_rate': 0.5405865428987514,\n",
    " 'max_bin': None,\n",
    " 'max_cat_threshold': None,\n",
    " 'max_cat_to_onehot': None,\n",
    " 'max_delta_step': None,\n",
    " 'max_depth': 4,\n",
    " 'max_leaves': None,\n",
    " 'min_child_weight': 3.368346608335616,\n",
    " 'monotone_constraints': None,\n",
    " 'multi_strategy': None,\n",
    " #'n_estimators': None,\n",
    " 'n_jobs': None,\n",
    " 'num_parallel_tree': None,\n",
    " 'random_state': 42,\n",
    " 'reg_alpha': 1,\n",
    " 'reg_lambda': 1.0150610613186282,\n",
    " 'sampling_method': None,\n",
    " 'scale_pos_weight': scale_pos_weight,\n",
    " 'subsample': 0.776565739766952,\n",
    " 'tree_method': None,\n",
    " 'validate_parameters': None,\n",
    " 'verbosity': None}"
   ]
  },
  {
   "cell_type": "code",
   "execution_count": null,
   "metadata": {},
   "outputs": [],
   "source": [
    "xg_up = xgb.XGBClassifier(**updated_params, early_stopping_rounds=50,\n",
    "                          n_estimators=500)\n",
    "xg_up.fit(X_train, y_train,\n",
    "       eval_set=[(X_train, y_train),\n",
    "                 (X_test, y_test)\n",
    "                ],\n",
    "verbose=100\n",
    ")"
   ]
  },
  {
   "cell_type": "code",
   "execution_count": null,
   "metadata": {},
   "outputs": [],
   "source": [
    "# How does the model perform?\n",
    "xg_up.score(X_test, y_test)"
   ]
  },
  {
   "cell_type": "markdown",
   "metadata": {},
   "source": [
    "It looks like Hyperopt accounts for imbalanced data when developing the best hyperparameters. Adding scale_pos_weight after establishing the parameters did not improve the accuracy of the model."
   ]
  },
  {
   "cell_type": "markdown",
   "metadata": {},
   "source": [
    "### Evaluation visualizations"
   ]
  },
  {
   "cell_type": "code",
   "execution_count": null,
   "metadata": {},
   "outputs": [],
   "source": [
    "# xg_ex vs xg_es\n",
    "fig, ax = plt.subplots(figsize=(8, 8))\n",
    "metrics.RocCurveDisplay.from_estimator(xg_ex, X_test, y_test, ax=ax, name='xg_ex')\n",
    "metrics.RocCurveDisplay.from_estimator(xg_es, X_test, y_test, ax=ax, name='xg_es')"
   ]
  }
 ],
 "metadata": {
  "kernelspec": {
   "display_name": "cx-analytics",
   "language": "python",
   "name": "python3"
  },
  "language_info": {
   "codemirror_mode": {
    "name": "ipython",
    "version": 3
   },
   "file_extension": ".py",
   "mimetype": "text/x-python",
   "name": "python",
   "nbconvert_exporter": "python",
   "pygments_lexer": "ipython3",
   "version": "3.9.16"
  }
 },
 "nbformat": 4,
 "nbformat_minor": 2
}
